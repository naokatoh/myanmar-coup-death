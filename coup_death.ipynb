{
 "cells": [
  {
   "cell_type": "code",
   "execution_count": 1,
   "id": "d8fd7c85",
   "metadata": {},
   "outputs": [],
   "source": [
    "import camelot\n"
   ]
  },
  {
   "cell_type": "code",
   "execution_count": 2,
   "id": "c2d1b8db",
   "metadata": {},
   "outputs": [],
   "source": [
    "# Recent-fatality-List-for-April-15-2022-English.pdf\n",
    "import pandas as pd"
   ]
  },
  {
   "cell_type": "code",
   "execution_count": 3,
   "id": "a9d7c225",
   "metadata": {},
   "outputs": [
    {
     "data": {
      "text/plain": [
       "<TableList n=1>"
      ]
     },
     "execution_count": 3,
     "metadata": {},
     "output_type": "execute_result"
    }
   ],
   "source": [
    "tables = camelot.read_pdf(\"Recent-fatality-List-for-April-15-2022-English.pdf\")\n",
    "tables"
   ]
  },
  {
   "cell_type": "code",
   "execution_count": 4,
   "id": "ffa25fbd",
   "metadata": {},
   "outputs": [
    {
     "data": {
      "text/html": [
       "<div>\n",
       "<style scoped>\n",
       "    .dataframe tbody tr th:only-of-type {\n",
       "        vertical-align: middle;\n",
       "    }\n",
       "\n",
       "    .dataframe tbody tr th {\n",
       "        vertical-align: top;\n",
       "    }\n",
       "\n",
       "    .dataframe thead th {\n",
       "        text-align: right;\n",
       "    }\n",
       "</style>\n",
       "<table border=\"1\" class=\"dataframe\">\n",
       "  <thead>\n",
       "    <tr style=\"text-align: right;\">\n",
       "      <th></th>\n",
       "      <th>0</th>\n",
       "      <th>1</th>\n",
       "      <th>2</th>\n",
       "      <th>3</th>\n",
       "      <th>4</th>\n",
       "      <th>5</th>\n",
       "      <th>6</th>\n",
       "      <th>7</th>\n",
       "      <th>8</th>\n",
       "      <th>9</th>\n",
       "      <th>10</th>\n",
       "      <th>11</th>\n",
       "      <th>12</th>\n",
       "    </tr>\n",
       "  </thead>\n",
       "  <tbody>\n",
       "    <tr>\n",
       "      <th>0</th>\n",
       "      <td>No.</td>\n",
       "      <td>Name</td>\n",
       "      <td>Sex</td>\n",
       "      <td>Age</td>\n",
       "      <td>Father's \\nname</td>\n",
       "      <td>Date of \\nIncident</td>\n",
       "      <td>Deceased \\nDate</td>\n",
       "      <td>Organization</td>\n",
       "      <td>Place of \\nIncidents</td>\n",
       "      <td>Home \\nAddress</td>\n",
       "      <td>Township</td>\n",
       "      <td>States/Regions</td>\n",
       "      <td>Remarks</td>\n",
       "    </tr>\n",
       "    <tr>\n",
       "      <th>1</th>\n",
       "      <td>1</td>\n",
       "      <td>Na Pwar (aka) Ko \\nNyi Nyi Oo</td>\n",
       "      <td>M</td>\n",
       "      <td>32</td>\n",
       "      <td>U Hla Ngwe</td>\n",
       "      <td>08-Feb-21</td>\n",
       "      <td>8-Feb-21</td>\n",
       "      <td>Civilian</td>\n",
       "      <td>Mandalay</td>\n",
       "      <td>75 Street, \\nbetween 37 and \\n38 Street</td>\n",
       "      <td>Maha Aung \\nMyay</td>\n",
       "      <td>Mandalay</td>\n",
       "      <td>In another incident, 32 year old Ko Na Pwar ((...</td>\n",
       "    </tr>\n",
       "    <tr>\n",
       "      <th>2</th>\n",
       "      <td>2</td>\n",
       "      <td>Mya Thwet Thwet \\nKhaing</td>\n",
       "      <td>F</td>\n",
       "      <td>21</td>\n",
       "      <td>U Min Lwin</td>\n",
       "      <td>09-Feb-21</td>\n",
       "      <td>19-Feb-21</td>\n",
       "      <td>Student</td>\n",
       "      <td>Near Tha Pyay \\nGone \\nRoundabout, \\nNaypyitaw</td>\n",
       "      <td>Hlaykhwintaun\\ng, Lower \\nPaunglaung \\nHydro P...</td>\n",
       "      <td>Zeyathiri</td>\n",
       "      <td>Naypyitaw</td>\n",
       "      <td>Police flights from peaceful protests in Naypy...</td>\n",
       "    </tr>\n",
       "    <tr>\n",
       "      <th>3</th>\n",
       "      <td>3</td>\n",
       "      <td>Nay Nay Win Htet</td>\n",
       "      <td>M</td>\n",
       "      <td>18</td>\n",
       "      <td>Unknown</td>\n",
       "      <td>15-Feb-21</td>\n",
       "      <td>15-Feb-21</td>\n",
       "      <td>Civilian</td>\n",
       "      <td>Myeik, \\nTanintharyi \\nRegion</td>\n",
       "      <td>Toe Chal Ward</td>\n",
       "      <td>Myeik</td>\n",
       "      <td>Tanintharyi</td>\n",
       "      <td>On 15 February evening, 18-year old Maung Nay ...</td>\n",
       "    </tr>\n",
       "    <tr>\n",
       "      <th>4</th>\n",
       "      <td>4</td>\n",
       "      <td>Thet Naing Win \\n(aka) Min Min</td>\n",
       "      <td>M</td>\n",
       "      <td>37</td>\n",
       "      <td>U Maung San 20-Feb-21</td>\n",
       "      <td></td>\n",
       "      <td>20-Feb-21</td>\n",
       "      <td>Civilian</td>\n",
       "      <td>Kannar Road, \\nMandalay City</td>\n",
       "      <td>Near 41 Street</td>\n",
       "      <td>Maha Aung \\nMyay</td>\n",
       "      <td>Mandalay</td>\n",
       "      <td>In Mandalay, a shipyaroad raid turned violent ...</td>\n",
       "    </tr>\n",
       "  </tbody>\n",
       "</table>\n",
       "</div>"
      ],
      "text/plain": [
       "    0                               1    2    3                      4   \\\n",
       "0  No.                            Name  Sex  Age        Father's \\nname   \n",
       "1    1   Na Pwar (aka) Ko \\nNyi Nyi Oo    M   32             U Hla Ngwe   \n",
       "2    2        Mya Thwet Thwet \\nKhaing    F   21             U Min Lwin   \n",
       "3    3                Nay Nay Win Htet    M   18                Unknown   \n",
       "4    4  Thet Naing Win \\n(aka) Min Min    M   37  U Maung San 20-Feb-21   \n",
       "\n",
       "                   5                6             7   \\\n",
       "0  Date of \\nIncident  Deceased \\nDate  Organization   \n",
       "1           08-Feb-21         8-Feb-21      Civilian   \n",
       "2           09-Feb-21        19-Feb-21       Student   \n",
       "3           15-Feb-21        15-Feb-21      Civilian   \n",
       "4                            20-Feb-21      Civilian   \n",
       "\n",
       "                                               8   \\\n",
       "0                            Place of \\nIncidents   \n",
       "1                                        Mandalay   \n",
       "2  Near Tha Pyay \\nGone \\nRoundabout, \\nNaypyitaw   \n",
       "3                   Myeik, \\nTanintharyi \\nRegion   \n",
       "4                    Kannar Road, \\nMandalay City   \n",
       "\n",
       "                                                  9                 10  \\\n",
       "0                                     Home \\nAddress          Township   \n",
       "1            75 Street, \\nbetween 37 and \\n38 Street  Maha Aung \\nMyay   \n",
       "2  Hlaykhwintaun\\ng, Lower \\nPaunglaung \\nHydro P...         Zeyathiri   \n",
       "3                                      Toe Chal Ward             Myeik   \n",
       "4                                     Near 41 Street  Maha Aung \\nMyay   \n",
       "\n",
       "               11                                                 12  \n",
       "0  States/Regions                                            Remarks  \n",
       "1        Mandalay  In another incident, 32 year old Ko Na Pwar ((...  \n",
       "2       Naypyitaw  Police flights from peaceful protests in Naypy...  \n",
       "3     Tanintharyi  On 15 February evening, 18-year old Maung Nay ...  \n",
       "4        Mandalay  In Mandalay, a shipyaroad raid turned violent ...  "
      ]
     },
     "execution_count": 4,
     "metadata": {},
     "output_type": "execute_result"
    }
   ],
   "source": [
    "tables[0].df"
   ]
  },
  {
   "cell_type": "code",
   "execution_count": 5,
   "id": "c5d726a0",
   "metadata": {},
   "outputs": [],
   "source": [
    "tables = camelot.read_pdf(\"Recent-fatality-List-for-April-15-2022-English.pdf\", pages ='1-end')\n"
   ]
  },
  {
   "cell_type": "code",
   "execution_count": 6,
   "id": "ed577f21",
   "metadata": {},
   "outputs": [
    {
     "data": {
      "text/plain": [
       "<TableList n=249>"
      ]
     },
     "execution_count": 6,
     "metadata": {},
     "output_type": "execute_result"
    }
   ],
   "source": [
    "tables"
   ]
  },
  {
   "cell_type": "code",
   "execution_count": 7,
   "id": "8f5e828e",
   "metadata": {},
   "outputs": [
    {
     "data": {
      "text/html": [
       "<div>\n",
       "<style scoped>\n",
       "    .dataframe tbody tr th:only-of-type {\n",
       "        vertical-align: middle;\n",
       "    }\n",
       "\n",
       "    .dataframe tbody tr th {\n",
       "        vertical-align: top;\n",
       "    }\n",
       "\n",
       "    .dataframe thead th {\n",
       "        text-align: right;\n",
       "    }\n",
       "</style>\n",
       "<table border=\"1\" class=\"dataframe\">\n",
       "  <thead>\n",
       "    <tr style=\"text-align: right;\">\n",
       "      <th></th>\n",
       "      <th>0</th>\n",
       "      <th>1</th>\n",
       "      <th>2</th>\n",
       "      <th>3</th>\n",
       "      <th>4</th>\n",
       "      <th>5</th>\n",
       "      <th>6</th>\n",
       "      <th>7</th>\n",
       "      <th>8</th>\n",
       "      <th>9</th>\n",
       "      <th>10</th>\n",
       "      <th>11</th>\n",
       "      <th>12</th>\n",
       "    </tr>\n",
       "  </thead>\n",
       "  <tbody>\n",
       "    <tr>\n",
       "      <th>0</th>\n",
       "      <td>5</td>\n",
       "      <td>Wai Yan Tun</td>\n",
       "      <td>M</td>\n",
       "      <td>16</td>\n",
       "      <td>Unknown</td>\n",
       "      <td>20-Feb-21</td>\n",
       "      <td>20-Feb-21</td>\n",
       "      <td>Civilian</td>\n",
       "      <td>Kannar Road, \\nMandalay City</td>\n",
       "      <td>Near 41 Street</td>\n",
       "      <td>Maha Aung \\nMyay</td>\n",
       "      <td>Mandalay</td>\n",
       "      <td>In Mandalay, a shipyaroad raid turned violent ...</td>\n",
       "    </tr>\n",
       "    <tr>\n",
       "      <th>1</th>\n",
       "      <td>6</td>\n",
       "      <td>Kyi Soe</td>\n",
       "      <td>M</td>\n",
       "      <td>48</td>\n",
       "      <td>Unknown</td>\n",
       "      <td>20-Feb-21</td>\n",
       "      <td>20-Feb-21</td>\n",
       "      <td>Civilian</td>\n",
       "      <td>Strand Road, \\nMandalay City</td>\n",
       "      <td>Near 41 Street</td>\n",
       "      <td>Maha Aung \\nMyay</td>\n",
       "      <td>Mandalay</td>\n",
       "      <td>Died due to head injuries caused by being beat...</td>\n",
       "    </tr>\n",
       "    <tr>\n",
       "      <th>2</th>\n",
       "      <td>7</td>\n",
       "      <td>Tin Htut Hein</td>\n",
       "      <td>M</td>\n",
       "      <td>30</td>\n",
       "      <td>Unknown</td>\n",
       "      <td>20-Feb-21</td>\n",
       "      <td>20-Feb-21</td>\n",
       "      <td>Civilian</td>\n",
       "      <td>(Ta) 15 \\nQuarter, \\nYangon</td>\n",
       "      <td>(Ta) 15 Quarter</td>\n",
       "      <td>Shwepyithar</td>\n",
       "      <td>Yangon</td>\n",
       "      <td>He was shot dead while standing guard in Ta/15...</td>\n",
       "    </tr>\n",
       "    <tr>\n",
       "      <th>3</th>\n",
       "      <td>8</td>\n",
       "      <td>Yar Zar Aung</td>\n",
       "      <td>M</td>\n",
       "      <td>26</td>\n",
       "      <td>Unknown</td>\n",
       "      <td>20-Feb-21</td>\n",
       "      <td>24-Feb-21</td>\n",
       "      <td>Civilian</td>\n",
       "      <td>Mandalay \\nYadanarbon \\nShipyaroad of \\nDomest...</td>\n",
       "      <td></td>\n",
       "      <td></td>\n",
       "      <td>Mandalay</td>\n",
       "      <td>26 years old (Ko) Yar Zar Aung, was arrested a...</td>\n",
       "    </tr>\n",
       "    <tr>\n",
       "      <th>4</th>\n",
       "      <td>9</td>\n",
       "      <td>Kyaw Htet Khaing \\n(aka) Kyaw Htet \\nKhaung</td>\n",
       "      <td>M</td>\n",
       "      <td>30</td>\n",
       "      <td>U Khin \\nMaung Aye \\n+ Daw San \\nSan Aye</td>\n",
       "      <td>28-Feb-21</td>\n",
       "      <td>28-Feb-21</td>\n",
       "      <td>CSOs (Worker \\nAssociation)</td>\n",
       "      <td>41X42, 81x83 \\nRoad, \\nMandalay</td>\n",
       "      <td>41X42, 81x83 \\nRoad</td>\n",
       "      <td>Kyaukse</td>\n",
       "      <td>Mandalay</td>\n",
       "      <td>Shot in the  chest with gunfire</td>\n",
       "    </tr>\n",
       "    <tr>\n",
       "      <th>5</th>\n",
       "      <td>10</td>\n",
       "      <td>Pe Than (aka) Naw \\nNgo</td>\n",
       "      <td>M</td>\n",
       "      <td>35</td>\n",
       "      <td>Unknown</td>\n",
       "      <td>28-Feb-21</td>\n",
       "      <td>28-Feb-21</td>\n",
       "      <td>Civilian</td>\n",
       "      <td>Dawei \\nCrackdown</td>\n",
       "      <td>PuGawZune \\nVillage, \\nYayphyu</td>\n",
       "      <td>Dawei</td>\n",
       "      <td>Tanintharyi</td>\n",
       "      <td>He was killed from gunshot</td>\n",
       "    </tr>\n",
       "    <tr>\n",
       "      <th>6</th>\n",
       "      <td>11</td>\n",
       "      <td>Than Win (aka) Jun \\nMar Khan</td>\n",
       "      <td>M</td>\n",
       "      <td>36</td>\n",
       "      <td>Unknown</td>\n",
       "      <td>28-Feb-21</td>\n",
       "      <td>28-Feb-21</td>\n",
       "      <td>Civilian</td>\n",
       "      <td>Dawei \\nCrackdown</td>\n",
       "      <td>KaYatpyin \\nNorth Ward</td>\n",
       "      <td>Dawei</td>\n",
       "      <td>Tanintharyi</td>\n",
       "      <td>While he was lying on the ground he was shot i...</td>\n",
       "    </tr>\n",
       "    <tr>\n",
       "      <th>7</th>\n",
       "      <td>12</td>\n",
       "      <td>Lwin Lwin Oo</td>\n",
       "      <td>M</td>\n",
       "      <td>33</td>\n",
       "      <td>Unknown</td>\n",
       "      <td>28-Feb-21</td>\n",
       "      <td>28-Feb-21</td>\n",
       "      <td>Civilian</td>\n",
       "      <td>Dawei \\nCrackdown</td>\n",
       "      <td>Pone Kyun \\nWard</td>\n",
       "      <td>Dawei</td>\n",
       "      <td>Tanintharyi</td>\n",
       "      <td>He was killed from gunshot</td>\n",
       "    </tr>\n",
       "    <tr>\n",
       "      <th>8</th>\n",
       "      <td>13</td>\n",
       "      <td>Banyar Aung</td>\n",
       "      <td>M</td>\n",
       "      <td>39</td>\n",
       "      <td>Unknown</td>\n",
       "      <td>28-Feb-21</td>\n",
       "      <td>28-Feb-21</td>\n",
       "      <td>Civilian</td>\n",
       "      <td>Dawei \\nCrackdown</td>\n",
       "      <td>Longlone/ \\nKyauk Sin \\nVillage</td>\n",
       "      <td>Dawei</td>\n",
       "      <td>Tanintharyi</td>\n",
       "      <td>He was killed from gunshot</td>\n",
       "    </tr>\n",
       "    <tr>\n",
       "      <th>9</th>\n",
       "      <td>14</td>\n",
       "      <td>Hein Htut Aung</td>\n",
       "      <td>M</td>\n",
       "      <td>23</td>\n",
       "      <td>Unknown</td>\n",
       "      <td>28-Feb-21</td>\n",
       "      <td>28-Feb-21</td>\n",
       "      <td>Civilian</td>\n",
       "      <td>Bowamyint, \\nLaydaunkkan \\nroad, \\nThingangyunn</td>\n",
       "      <td>71 Ward</td>\n",
       "      <td>South Dagon</td>\n",
       "      <td>Yangon</td>\n",
       "      <td>He was killed from gunshot</td>\n",
       "    </tr>\n",
       "  </tbody>\n",
       "</table>\n",
       "</div>"
      ],
      "text/plain": [
       "   0                                            1  2   3   \\\n",
       "0   5                                  Wai Yan Tun  M  16   \n",
       "1   6                                      Kyi Soe  M  48   \n",
       "2   7                                Tin Htut Hein  M  30   \n",
       "3   8                                 Yar Zar Aung  M  26   \n",
       "4   9  Kyaw Htet Khaing \\n(aka) Kyaw Htet \\nKhaung  M  30   \n",
       "5  10                      Pe Than (aka) Naw \\nNgo  M  35   \n",
       "6  11                Than Win (aka) Jun \\nMar Khan  M  36   \n",
       "7  12                                 Lwin Lwin Oo  M  33   \n",
       "8  13                                  Banyar Aung  M  39   \n",
       "9  14                               Hein Htut Aung  M  23   \n",
       "\n",
       "                                         4          5          6   \\\n",
       "0                                   Unknown  20-Feb-21  20-Feb-21   \n",
       "1                                   Unknown  20-Feb-21  20-Feb-21   \n",
       "2                                   Unknown  20-Feb-21  20-Feb-21   \n",
       "3                                   Unknown  20-Feb-21  24-Feb-21   \n",
       "4  U Khin \\nMaung Aye \\n+ Daw San \\nSan Aye  28-Feb-21  28-Feb-21   \n",
       "5                                   Unknown  28-Feb-21  28-Feb-21   \n",
       "6                                   Unknown  28-Feb-21  28-Feb-21   \n",
       "7                                   Unknown  28-Feb-21  28-Feb-21   \n",
       "8                                   Unknown  28-Feb-21  28-Feb-21   \n",
       "9                                   Unknown  28-Feb-21  28-Feb-21   \n",
       "\n",
       "                            7   \\\n",
       "0                     Civilian   \n",
       "1                     Civilian   \n",
       "2                     Civilian   \n",
       "3                     Civilian   \n",
       "4  CSOs (Worker \\nAssociation)   \n",
       "5                     Civilian   \n",
       "6                     Civilian   \n",
       "7                     Civilian   \n",
       "8                     Civilian   \n",
       "9                     Civilian   \n",
       "\n",
       "                                                  8   \\\n",
       "0                       Kannar Road, \\nMandalay City   \n",
       "1                       Strand Road, \\nMandalay City   \n",
       "2                        (Ta) 15 \\nQuarter, \\nYangon   \n",
       "3  Mandalay \\nYadanarbon \\nShipyaroad of \\nDomest...   \n",
       "4                    41X42, 81x83 \\nRoad, \\nMandalay   \n",
       "5                                  Dawei \\nCrackdown   \n",
       "6                                  Dawei \\nCrackdown   \n",
       "7                                  Dawei \\nCrackdown   \n",
       "8                                  Dawei \\nCrackdown   \n",
       "9    Bowamyint, \\nLaydaunkkan \\nroad, \\nThingangyunn   \n",
       "\n",
       "                                9                 10           11  \\\n",
       "0                   Near 41 Street  Maha Aung \\nMyay     Mandalay   \n",
       "1                   Near 41 Street  Maha Aung \\nMyay     Mandalay   \n",
       "2                  (Ta) 15 Quarter       Shwepyithar       Yangon   \n",
       "3                                                        Mandalay   \n",
       "4              41X42, 81x83 \\nRoad           Kyaukse     Mandalay   \n",
       "5   PuGawZune \\nVillage, \\nYayphyu             Dawei  Tanintharyi   \n",
       "6           KaYatpyin \\nNorth Ward             Dawei  Tanintharyi   \n",
       "7                 Pone Kyun \\nWard             Dawei  Tanintharyi   \n",
       "8  Longlone/ \\nKyauk Sin \\nVillage             Dawei  Tanintharyi   \n",
       "9                          71 Ward       South Dagon       Yangon   \n",
       "\n",
       "                                                  12  \n",
       "0  In Mandalay, a shipyaroad raid turned violent ...  \n",
       "1  Died due to head injuries caused by being beat...  \n",
       "2  He was shot dead while standing guard in Ta/15...  \n",
       "3  26 years old (Ko) Yar Zar Aung, was arrested a...  \n",
       "4                    Shot in the  chest with gunfire  \n",
       "5                         He was killed from gunshot  \n",
       "6  While he was lying on the ground he was shot i...  \n",
       "7                         He was killed from gunshot  \n",
       "8                         He was killed from gunshot  \n",
       "9                         He was killed from gunshot  "
      ]
     },
     "execution_count": 7,
     "metadata": {},
     "output_type": "execute_result"
    }
   ],
   "source": [
    "tables[1].df"
   ]
  },
  {
   "cell_type": "code",
   "execution_count": 163,
   "id": "0a787923",
   "metadata": {
    "scrolled": true
   },
   "outputs": [
    {
     "data": {
      "text/html": [
       "<div>\n",
       "<style scoped>\n",
       "    .dataframe tbody tr th:only-of-type {\n",
       "        vertical-align: middle;\n",
       "    }\n",
       "\n",
       "    .dataframe tbody tr th {\n",
       "        vertical-align: top;\n",
       "    }\n",
       "\n",
       "    .dataframe thead th {\n",
       "        text-align: right;\n",
       "    }\n",
       "</style>\n",
       "<table border=\"1\" class=\"dataframe\">\n",
       "  <thead>\n",
       "    <tr style=\"text-align: right;\">\n",
       "      <th></th>\n",
       "      <th>0</th>\n",
       "      <th>1</th>\n",
       "      <th>2</th>\n",
       "      <th>3</th>\n",
       "      <th>4</th>\n",
       "      <th>5</th>\n",
       "      <th>6</th>\n",
       "      <th>7</th>\n",
       "      <th>8</th>\n",
       "      <th>9</th>\n",
       "      <th>10</th>\n",
       "      <th>11</th>\n",
       "      <th>12</th>\n",
       "    </tr>\n",
       "  </thead>\n",
       "  <tbody>\n",
       "    <tr>\n",
       "      <th>0</th>\n",
       "      <td>No.</td>\n",
       "      <td>Name</td>\n",
       "      <td>Sex</td>\n",
       "      <td>Age</td>\n",
       "      <td>Father's \\nname</td>\n",
       "      <td>Date of \\nIncident</td>\n",
       "      <td>Deceased \\nDate</td>\n",
       "      <td>Organization</td>\n",
       "      <td>Place of \\nIncidents</td>\n",
       "      <td>Home \\nAddress</td>\n",
       "      <td>Township</td>\n",
       "      <td>States/Regions</td>\n",
       "      <td>Remarks</td>\n",
       "    </tr>\n",
       "    <tr>\n",
       "      <th>1</th>\n",
       "      <td>1</td>\n",
       "      <td>Na Pwar (aka) Ko \\nNyi Nyi Oo</td>\n",
       "      <td>M</td>\n",
       "      <td>32</td>\n",
       "      <td>U Hla Ngwe</td>\n",
       "      <td>08-Feb-21</td>\n",
       "      <td>8-Feb-21</td>\n",
       "      <td>Civilian</td>\n",
       "      <td>Mandalay</td>\n",
       "      <td>75 Street, \\nbetween 37 and \\n38 Street</td>\n",
       "      <td>Maha Aung \\nMyay</td>\n",
       "      <td>Mandalay</td>\n",
       "      <td>In another incident, 32 year old Ko Na Pwar ((...</td>\n",
       "    </tr>\n",
       "    <tr>\n",
       "      <th>2</th>\n",
       "      <td>2</td>\n",
       "      <td>Mya Thwet Thwet \\nKhaing</td>\n",
       "      <td>F</td>\n",
       "      <td>21</td>\n",
       "      <td>U Min Lwin</td>\n",
       "      <td>09-Feb-21</td>\n",
       "      <td>19-Feb-21</td>\n",
       "      <td>Student</td>\n",
       "      <td>Near Tha Pyay \\nGone \\nRoundabout, \\nNaypyitaw</td>\n",
       "      <td>Hlaykhwintaun\\ng, Lower \\nPaunglaung \\nHydro P...</td>\n",
       "      <td>Zeyathiri</td>\n",
       "      <td>Naypyitaw</td>\n",
       "      <td>Police flights from peaceful protests in Naypy...</td>\n",
       "    </tr>\n",
       "    <tr>\n",
       "      <th>3</th>\n",
       "      <td>3</td>\n",
       "      <td>Nay Nay Win Htet</td>\n",
       "      <td>M</td>\n",
       "      <td>18</td>\n",
       "      <td>Unknown</td>\n",
       "      <td>15-Feb-21</td>\n",
       "      <td>15-Feb-21</td>\n",
       "      <td>Civilian</td>\n",
       "      <td>Myeik, \\nTanintharyi \\nRegion</td>\n",
       "      <td>Toe Chal Ward</td>\n",
       "      <td>Myeik</td>\n",
       "      <td>Tanintharyi</td>\n",
       "      <td>On 15 February evening, 18-year old Maung Nay ...</td>\n",
       "    </tr>\n",
       "    <tr>\n",
       "      <th>4</th>\n",
       "      <td>4</td>\n",
       "      <td>Thet Naing Win \\n(aka) Min Min</td>\n",
       "      <td>M</td>\n",
       "      <td>37</td>\n",
       "      <td>U Maung San 20-Feb-21</td>\n",
       "      <td></td>\n",
       "      <td>20-Feb-21</td>\n",
       "      <td>Civilian</td>\n",
       "      <td>Kannar Road, \\nMandalay City</td>\n",
       "      <td>Near 41 Street</td>\n",
       "      <td>Maha Aung \\nMyay</td>\n",
       "      <td>Mandalay</td>\n",
       "      <td>In Mandalay, a shipyaroad raid turned violent ...</td>\n",
       "    </tr>\n",
       "  </tbody>\n",
       "</table>\n",
       "</div>"
      ],
      "text/plain": [
       "    0                               1    2    3                      4   \\\n",
       "0  No.                            Name  Sex  Age        Father's \\nname   \n",
       "1    1   Na Pwar (aka) Ko \\nNyi Nyi Oo    M   32             U Hla Ngwe   \n",
       "2    2        Mya Thwet Thwet \\nKhaing    F   21             U Min Lwin   \n",
       "3    3                Nay Nay Win Htet    M   18                Unknown   \n",
       "4    4  Thet Naing Win \\n(aka) Min Min    M   37  U Maung San 20-Feb-21   \n",
       "\n",
       "                   5                6             7   \\\n",
       "0  Date of \\nIncident  Deceased \\nDate  Organization   \n",
       "1           08-Feb-21         8-Feb-21      Civilian   \n",
       "2           09-Feb-21        19-Feb-21       Student   \n",
       "3           15-Feb-21        15-Feb-21      Civilian   \n",
       "4                            20-Feb-21      Civilian   \n",
       "\n",
       "                                               8   \\\n",
       "0                            Place of \\nIncidents   \n",
       "1                                        Mandalay   \n",
       "2  Near Tha Pyay \\nGone \\nRoundabout, \\nNaypyitaw   \n",
       "3                   Myeik, \\nTanintharyi \\nRegion   \n",
       "4                    Kannar Road, \\nMandalay City   \n",
       "\n",
       "                                                  9                 10  \\\n",
       "0                                     Home \\nAddress          Township   \n",
       "1            75 Street, \\nbetween 37 and \\n38 Street  Maha Aung \\nMyay   \n",
       "2  Hlaykhwintaun\\ng, Lower \\nPaunglaung \\nHydro P...         Zeyathiri   \n",
       "3                                      Toe Chal Ward             Myeik   \n",
       "4                                     Near 41 Street  Maha Aung \\nMyay   \n",
       "\n",
       "               11                                                 12  \n",
       "0  States/Regions                                            Remarks  \n",
       "1        Mandalay  In another incident, 32 year old Ko Na Pwar ((...  \n",
       "2       Naypyitaw  Police flights from peaceful protests in Naypy...  \n",
       "3     Tanintharyi  On 15 February evening, 18-year old Maung Nay ...  \n",
       "4        Mandalay  In Mandalay, a shipyaroad raid turned violent ...  "
      ]
     },
     "execution_count": 163,
     "metadata": {},
     "output_type": "execute_result"
    }
   ],
   "source": [
    "dfs = [table.df for table in tables]\n",
    "df_new = pd.concat(dfs, ignore_index = True)\n",
    "df_new.head()"
   ]
  },
  {
   "cell_type": "code",
   "execution_count": 158,
   "id": "56d14d18",
   "metadata": {},
   "outputs": [
    {
     "data": {
      "text/html": [
       "<div>\n",
       "<style scoped>\n",
       "    .dataframe tbody tr th:only-of-type {\n",
       "        vertical-align: middle;\n",
       "    }\n",
       "\n",
       "    .dataframe tbody tr th {\n",
       "        vertical-align: top;\n",
       "    }\n",
       "\n",
       "    .dataframe thead th {\n",
       "        text-align: right;\n",
       "    }\n",
       "</style>\n",
       "<table border=\"1\" class=\"dataframe\">\n",
       "  <thead>\n",
       "    <tr style=\"text-align: right;\">\n",
       "      <th></th>\n",
       "      <th>No.</th>\n",
       "      <th>Name</th>\n",
       "      <th>Sex</th>\n",
       "      <th>Age</th>\n",
       "      <th>Father's \\nname</th>\n",
       "      <th>Date of \\nIncident</th>\n",
       "      <th>Deceased \\nDate</th>\n",
       "      <th>Organization</th>\n",
       "      <th>Place of \\nIncidents</th>\n",
       "      <th>Home \\nAddress</th>\n",
       "      <th>Township</th>\n",
       "      <th>States/Regions</th>\n",
       "      <th>Remarks</th>\n",
       "    </tr>\n",
       "  </thead>\n",
       "  <tbody>\n",
       "    <tr>\n",
       "      <th>0</th>\n",
       "      <td>No.</td>\n",
       "      <td>Name</td>\n",
       "      <td>Sex</td>\n",
       "      <td>Age</td>\n",
       "      <td>Father's \\nname</td>\n",
       "      <td>Date of \\nIncident</td>\n",
       "      <td>Deceased \\nDate</td>\n",
       "      <td>Organization</td>\n",
       "      <td>Place of \\nIncidents</td>\n",
       "      <td>Home \\nAddress</td>\n",
       "      <td>Township</td>\n",
       "      <td>States/Regions</td>\n",
       "      <td>Remarks</td>\n",
       "    </tr>\n",
       "    <tr>\n",
       "      <th>1</th>\n",
       "      <td>1</td>\n",
       "      <td>Na Pwar (aka) Ko \\nNyi Nyi Oo</td>\n",
       "      <td>M</td>\n",
       "      <td>32</td>\n",
       "      <td>U Hla Ngwe</td>\n",
       "      <td>08-Feb-21</td>\n",
       "      <td>8-Feb-21</td>\n",
       "      <td>Civilian</td>\n",
       "      <td>Mandalay</td>\n",
       "      <td>75 Street, \\nbetween 37 and \\n38 Street</td>\n",
       "      <td>Maha Aung \\nMyay</td>\n",
       "      <td>Mandalay</td>\n",
       "      <td>In another incident, 32 year old Ko Na Pwar ((...</td>\n",
       "    </tr>\n",
       "    <tr>\n",
       "      <th>2</th>\n",
       "      <td>2</td>\n",
       "      <td>Mya Thwet Thwet \\nKhaing</td>\n",
       "      <td>F</td>\n",
       "      <td>21</td>\n",
       "      <td>U Min Lwin</td>\n",
       "      <td>09-Feb-21</td>\n",
       "      <td>19-Feb-21</td>\n",
       "      <td>Student</td>\n",
       "      <td>Near Tha Pyay \\nGone \\nRoundabout, \\nNaypyitaw</td>\n",
       "      <td>Hlaykhwintaun\\ng, Lower \\nPaunglaung \\nHydro P...</td>\n",
       "      <td>Zeyathiri</td>\n",
       "      <td>Naypyitaw</td>\n",
       "      <td>Police flights from peaceful protests in Naypy...</td>\n",
       "    </tr>\n",
       "    <tr>\n",
       "      <th>3</th>\n",
       "      <td>3</td>\n",
       "      <td>Nay Nay Win Htet</td>\n",
       "      <td>M</td>\n",
       "      <td>18</td>\n",
       "      <td>Unknown</td>\n",
       "      <td>15-Feb-21</td>\n",
       "      <td>15-Feb-21</td>\n",
       "      <td>Civilian</td>\n",
       "      <td>Myeik, \\nTanintharyi \\nRegion</td>\n",
       "      <td>Toe Chal Ward</td>\n",
       "      <td>Myeik</td>\n",
       "      <td>Tanintharyi</td>\n",
       "      <td>On 15 February evening, 18-year old Maung Nay ...</td>\n",
       "    </tr>\n",
       "    <tr>\n",
       "      <th>4</th>\n",
       "      <td>4</td>\n",
       "      <td>Thet Naing Win \\n(aka) Min Min</td>\n",
       "      <td>M</td>\n",
       "      <td>37</td>\n",
       "      <td>U Maung San 20-Feb-21</td>\n",
       "      <td></td>\n",
       "      <td>20-Feb-21</td>\n",
       "      <td>Civilian</td>\n",
       "      <td>Kannar Road, \\nMandalay City</td>\n",
       "      <td>Near 41 Street</td>\n",
       "      <td>Maha Aung \\nMyay</td>\n",
       "      <td>Mandalay</td>\n",
       "      <td>In Mandalay, a shipyaroad raid turned violent ...</td>\n",
       "    </tr>\n",
       "  </tbody>\n",
       "</table>\n",
       "</div>"
      ],
      "text/plain": [
       "   No.                            Name  Sex  Age        Father's \\nname  \\\n",
       "0  No.                            Name  Sex  Age        Father's \\nname   \n",
       "1    1   Na Pwar (aka) Ko \\nNyi Nyi Oo    M   32             U Hla Ngwe   \n",
       "2    2        Mya Thwet Thwet \\nKhaing    F   21             U Min Lwin   \n",
       "3    3                Nay Nay Win Htet    M   18                Unknown   \n",
       "4    4  Thet Naing Win \\n(aka) Min Min    M   37  U Maung San 20-Feb-21   \n",
       "\n",
       "   Date of \\nIncident  Deceased \\nDate  Organization  \\\n",
       "0  Date of \\nIncident  Deceased \\nDate  Organization   \n",
       "1           08-Feb-21         8-Feb-21      Civilian   \n",
       "2           09-Feb-21        19-Feb-21       Student   \n",
       "3           15-Feb-21        15-Feb-21      Civilian   \n",
       "4                            20-Feb-21      Civilian   \n",
       "\n",
       "                             Place of \\nIncidents  \\\n",
       "0                            Place of \\nIncidents   \n",
       "1                                        Mandalay   \n",
       "2  Near Tha Pyay \\nGone \\nRoundabout, \\nNaypyitaw   \n",
       "3                   Myeik, \\nTanintharyi \\nRegion   \n",
       "4                    Kannar Road, \\nMandalay City   \n",
       "\n",
       "                                      Home \\nAddress          Township  \\\n",
       "0                                     Home \\nAddress          Township   \n",
       "1            75 Street, \\nbetween 37 and \\n38 Street  Maha Aung \\nMyay   \n",
       "2  Hlaykhwintaun\\ng, Lower \\nPaunglaung \\nHydro P...         Zeyathiri   \n",
       "3                                      Toe Chal Ward             Myeik   \n",
       "4                                     Near 41 Street  Maha Aung \\nMyay   \n",
       "\n",
       "   States/Regions                                            Remarks  \n",
       "0  States/Regions                                            Remarks  \n",
       "1        Mandalay  In another incident, 32 year old Ko Na Pwar ((...  \n",
       "2       Naypyitaw  Police flights from peaceful protests in Naypy...  \n",
       "3     Tanintharyi  On 15 February evening, 18-year old Maung Nay ...  \n",
       "4        Mandalay  In Mandalay, a shipyaroad raid turned violent ...  "
      ]
     },
     "execution_count": 158,
     "metadata": {},
     "output_type": "execute_result"
    }
   ],
   "source": [
    "name = df_new.iloc[0].to_list()\n",
    "df_new2 =df_new.set_axis(name, axis=1)\n",
    "df_new2.head()\n"
   ]
  },
  {
   "cell_type": "code",
   "execution_count": 10,
   "id": "496fe49f",
   "metadata": {
    "scrolled": true
   },
   "outputs": [
    {
     "name": "stdout",
     "output_type": "stream",
     "text": [
      "<class 'pandas.core.frame.DataFrame'>\n",
      "Int64Index: 1678 entries, 1 to 1678\n",
      "Data columns (total 13 columns):\n",
      " #   Column               Non-Null Count  Dtype \n",
      "---  ------               --------------  ----- \n",
      " 0   No.                  1678 non-null   object\n",
      " 1   Name                 1678 non-null   object\n",
      " 2   Sex                  1678 non-null   object\n",
      " 3   Age                  1678 non-null   object\n",
      " 4   Father's \n",
      "name       1678 non-null   object\n",
      " 5   Date of \n",
      "Incident    1678 non-null   object\n",
      " 6   Deceased \n",
      "Date       1678 non-null   object\n",
      " 7   Organization         1678 non-null   object\n",
      " 8   Place of \n",
      "Incidents  1678 non-null   object\n",
      " 9   Home \n",
      "Address        1678 non-null   object\n",
      " 10  Township             1678 non-null   object\n",
      " 11  States/Regions       1678 non-null   object\n",
      " 12  Remarks              1678 non-null   object\n",
      "dtypes: object(13)\n",
      "memory usage: 183.5+ KB\n"
     ]
    }
   ],
   "source": [
    "coup = df_new2.drop([0, 1679, 1680])\n",
    "coup.info()"
   ]
  },
  {
   "cell_type": "code",
   "execution_count": 150,
   "id": "6ba73705",
   "metadata": {},
   "outputs": [
    {
     "data": {
      "text/plain": [
       "Sagaing        557\n",
       "Mandalay       265\n",
       "Yangon         256\n",
       "Magway         145\n",
       "Bago            89\n",
       "Tanintharyi     61\n",
       "Kayah           57\n",
       "Shan            56\n",
       "                50\n",
       "Chin            38\n",
       "Kachin          33\n",
       "Ayeyarwady      26\n",
       "Mon             22\n",
       "Kayin           11\n",
       "Naypyitaw        9\n",
       "Rakhine          1\n",
       "Karen            1\n",
       "Arrawaddy        1\n",
       "Name: States/Regions, dtype: int64"
      ]
     },
     "execution_count": 150,
     "metadata": {},
     "output_type": "execute_result"
    }
   ],
   "source": [
    "coup[\"States/Regions\"].value_counts()"
   ]
  },
  {
   "cell_type": "code",
   "execution_count": 11,
   "id": "c49413c1",
   "metadata": {},
   "outputs": [
    {
     "data": {
      "text/plain": [
       "       362\n",
       "40      76\n",
       "30      70\n",
       "20      60\n",
       "19      59\n",
       "      ... \n",
       "50+      1\n",
       "93       1\n",
       "77       1\n",
       "3        1\n",
       "84       1\n",
       "Name: Age, Length: 88, dtype: int64"
      ]
     },
     "execution_count": 11,
     "metadata": {},
     "output_type": "execute_result"
    }
   ],
   "source": [
    "coup.Age.value_counts().sort_values(ascending = False)"
   ]
  },
  {
   "cell_type": "code",
   "execution_count": 12,
   "id": "518aafea",
   "metadata": {},
   "outputs": [
    {
     "data": {
      "text/plain": [
       "Civilian                                       0.818832\n",
       "Student                                        0.041120\n",
       "LPDF                                           0.008343\n",
       "Volunteer                                      0.006555\n",
       "Public Servant, \\nEducation, \\nTeacher, CDM    0.005959\n",
       "Name: Organization, dtype: float64"
      ]
     },
     "execution_count": 12,
     "metadata": {},
     "output_type": "execute_result"
    }
   ],
   "source": [
    "coup.Organization.value_counts(normalize=True).head(5)"
   ]
  },
  {
   "cell_type": "code",
   "execution_count": 13,
   "id": "01c46fe3",
   "metadata": {},
   "outputs": [],
   "source": [
    "import numpy as np"
   ]
  },
  {
   "cell_type": "code",
   "execution_count": 14,
   "id": "465fd98e",
   "metadata": {},
   "outputs": [
    {
     "data": {
      "text/plain": [
       "array(['32', '21', '18', '37', '16', '48', '30', '26', '35', '36', '33',\n",
       "       '39', '23', '59', '20', '34', '40', '38', '19', '22', '17', '45',\n",
       "       '25', '47', '53', '42', '58', '27', '62', '31', '46', '24', '51',\n",
       "       '', '41', '29', '56', '43', '15', '28', '57', '75', '54', '78',\n",
       "       '52', '50', '67', '44', '70', '14', '66', '7', '60', '49', '13',\n",
       "       '9', '11', '68', '၂၀', '64', '၅၃', '55', '63', '10', '90', '87',\n",
       "       '72', '1 year \\nand 6 \\nmonth\\ns', '79', '65', '82', '1', '8',\n",
       "       '50 +', '20 +', 'Under \\n18', '76', '5', '40+', '50+', '12', '80',\n",
       "       '2', '77', '3', '93', '6', '84'], dtype=object)"
      ]
     },
     "execution_count": 14,
     "metadata": {},
     "output_type": "execute_result"
    }
   ],
   "source": [
    "coup[\"Age\"].unique()"
   ]
  },
  {
   "cell_type": "code",
   "execution_count": 15,
   "id": "85c3e0c8",
   "metadata": {},
   "outputs": [],
   "source": [
    "coup.Age = coup.Age.str.replace('1 year \\nand 6 \\nmonth\\ns', '1')"
   ]
  },
  {
   "cell_type": "code",
   "execution_count": 16,
   "id": "fd867092",
   "metadata": {},
   "outputs": [],
   "source": [
    "coup.Age = coup.Age.str.replace('40+', '40',regex=False)\n",
    "coup.Age = coup.Age.str.replace('50 +', '50',regex=False)\n",
    "coup.Age = coup.Age.str.replace('၂၀', '20',regex=False)\n",
    "coup.Age = coup.Age.str.replace('၅၃', '52',regex=False)\n",
    "coup.Age = coup.Age.str.replace('Under \\n18', '17',regex=False)\n",
    "coup.Age = coup.Age.str.replace('20 +', '50',regex=False)\n",
    "coup.Age = coup.Age.str.replace('50+', '50',regex=False)\n"
   ]
  },
  {
   "cell_type": "code",
   "execution_count": 17,
   "id": "c9c214cc",
   "metadata": {},
   "outputs": [
    {
     "data": {
      "text/plain": [
       "array(['32', '21', '18', '37', '16', '48', '30', '26', '35', '36', '33',\n",
       "       '39', '23', '59', '20', '34', '40', '38', '19', '22', '17', '45',\n",
       "       '25', '47', '53', '42', '58', '27', '62', '31', '46', '24', '51',\n",
       "       '', '41', '29', '56', '43', '15', '28', '57', '75', '54', '78',\n",
       "       '52', '50', '67', '44', '70', '14', '66', '7', '60', '49', '13',\n",
       "       '9', '11', '68', '64', '55', '63', '10', '90', '87', '72', '1',\n",
       "       '79', '65', '82', '8', '76', '5', '12', '80', '2', '77', '3', '93',\n",
       "       '6', '84'], dtype=object)"
      ]
     },
     "execution_count": 17,
     "metadata": {},
     "output_type": "execute_result"
    }
   ],
   "source": [
    "coup.Age.unique()"
   ]
  },
  {
   "cell_type": "code",
   "execution_count": 18,
   "id": "6019f32d",
   "metadata": {
    "scrolled": true
   },
   "outputs": [
    {
     "data": {
      "text/plain": [
       "array(['32', '21', '18', '37', '16', '48', '30', '26', '35', '36', '33',\n",
       "       '39', '23', '59', '20', '34', '40', '38', '19', '22', '17', '45',\n",
       "       '25', '47', '53', '42', '58', '27', '62', '31', '46', '24', '51',\n",
       "       '41', '29', '56', '43', '15', '28', '57', '75', '54', '78', '52',\n",
       "       '50', '67', '44', '70', '14', '66', '7', '60', '49', '13', '9',\n",
       "       '11', '68', '64', '55', '63', '10', '90', '87', '72', '1', '79',\n",
       "       '65', '82', '8', '76', '5', '12', '80', '2', '77', '3', '93', '6',\n",
       "       '84'], dtype=object)"
      ]
     },
     "execution_count": 18,
     "metadata": {},
     "output_type": "execute_result"
    }
   ],
   "source": [
    "coup2 = coup[coup.Age !='']\n",
    "coup2.Age.unique()"
   ]
  },
  {
   "cell_type": "code",
   "execution_count": 19,
   "id": "38f86cc2",
   "metadata": {},
   "outputs": [
    {
     "data": {
      "text/plain": [
       "False    1316\n",
       "Name: Age, dtype: int64"
      ]
     },
     "execution_count": 19,
     "metadata": {},
     "output_type": "execute_result"
    }
   ],
   "source": [
    "coup2.Age.isnull().value_counts()"
   ]
  },
  {
   "cell_type": "code",
   "execution_count": 20,
   "id": "172680b4",
   "metadata": {},
   "outputs": [
    {
     "name": "stderr",
     "output_type": "stream",
     "text": [
      "C:\\Users\\nao22\\AppData\\Local\\Programs\\Python\\Python310\\lib\\site-packages\\pandas\\core\\generic.py:5516: SettingWithCopyWarning: \n",
      "A value is trying to be set on a copy of a slice from a DataFrame.\n",
      "Try using .loc[row_indexer,col_indexer] = value instead\n",
      "\n",
      "See the caveats in the documentation: https://pandas.pydata.org/pandas-docs/stable/user_guide/indexing.html#returning-a-view-versus-a-copy\n",
      "  self[name] = value\n"
     ]
    }
   ],
   "source": [
    "coup2.Age = coup2.Age.astype(int)"
   ]
  },
  {
   "cell_type": "code",
   "execution_count": 21,
   "id": "b2b4d548",
   "metadata": {
    "scrolled": true
   },
   "outputs": [
    {
     "data": {
      "text/plain": [
       "Age      Age\n",
       "0 - 9    7      6\n",
       "         9      4\n",
       "         1      3\n",
       "         5      3\n",
       "         8      3\n",
       "               ..\n",
       "80 - 89  82     2\n",
       "         84     1\n",
       "         87     1\n",
       "90 - 99  90     1\n",
       "         93     1\n",
       "Name: Age, Length: 79, dtype: int64"
      ]
     },
     "execution_count": 21,
     "metadata": {},
     "output_type": "execute_result"
    }
   ],
   "source": [
    "labels = [ \"{0} - {1}\".format(i, i + 9) for i in range(0, 100, 10) ]\n",
    "\n",
    "age_group = pd.cut(coup2.Age,np.arange(-1, 100, 10),labels=labels)\n",
    "coup2.groupby(age_group).Age.value_counts()"
   ]
  },
  {
   "cell_type": "code",
   "execution_count": 22,
   "id": "4e746dad",
   "metadata": {},
   "outputs": [
    {
     "data": {
      "text/plain": [
       "20 - 29    404\n",
       "30 - 39    298\n",
       "10 - 19    203\n",
       "40 - 49    200\n",
       "50 - 59    106\n",
       "60 - 69     50\n",
       "0 - 9       24\n",
       "70 - 79     23\n",
       "80 - 89      6\n",
       "90 - 99      2\n",
       "Name: Age, dtype: int64"
      ]
     },
     "execution_count": 22,
     "metadata": {},
     "output_type": "execute_result"
    }
   ],
   "source": [
    "pd.cut(coup2.Age,np.arange(-1, 100, 10),labels=labels).value_counts()"
   ]
  },
  {
   "cell_type": "code",
   "execution_count": 23,
   "id": "a8b4bc6e",
   "metadata": {},
   "outputs": [
    {
     "data": {
      "text/plain": [
       "<AxesSubplot:>"
      ]
     },
     "execution_count": 23,
     "metadata": {},
     "output_type": "execute_result"
    },
    {
     "data": {
      "image/png": "[encoded data removed]",
      "text/plain": [
       "<Figure size 432x288 with 1 Axes>"
      ]
     },
     "metadata": {
      "needs_background": "light"
     },
     "output_type": "display_data"
    }
   ],
   "source": [
    "age_df = pd.cut(coup2.Age,np.arange(-1, 100, 10),labels=labels).value_counts()\n",
    "age_df2 = pd.DataFrame(age_df)\n",
    "age_df2.plot()\n"
   ]
  },
  {
   "cell_type": "code",
   "execution_count": 24,
   "id": "80115f45",
   "metadata": {
    "scrolled": false
   },
   "outputs": [
    {
     "data": {
      "text/plain": [
       "<AxesSubplot:title={'center':'Number of fatality since the 2021 coup in Myanmar'}>"
      ]
     },
     "execution_count": 24,
     "metadata": {},
     "output_type": "execute_result"
    },
    {
     "data": {
      "image/png": "[encoded data removed]",
      "text/plain": [
       "<Figure size 432x288 with 1 Axes>"
      ]
     },
     "metadata": {
      "needs_background": "light"
     },
     "output_type": "display_data"
    }
   ],
   "source": [
    "age_df2.plot(kind=\"bar\", title=\"Number of fatality since the 2021 coup in Myanmar\")"
   ]
  },
  {
   "cell_type": "code",
   "execution_count": 25,
   "id": "924204b9",
   "metadata": {
    "scrolled": true
   },
   "outputs": [],
   "source": [
    "age_df2.to_csv('output.csv')  "
   ]
  },
  {
   "cell_type": "code",
   "execution_count": 165,
   "id": "7ef4e488",
   "metadata": {},
   "outputs": [],
   "source": [
    "coup.to_csv('coup.csv',index=False)  "
   ]
  },
  {
   "cell_type": "code",
   "execution_count": 27,
   "id": "d6e95327",
   "metadata": {},
   "outputs": [
    {
     "data": {
      "text/html": [
       "<div>\n",
       "<style scoped>\n",
       "    .dataframe tbody tr th:only-of-type {\n",
       "        vertical-align: middle;\n",
       "    }\n",
       "\n",
       "    .dataframe tbody tr th {\n",
       "        vertical-align: top;\n",
       "    }\n",
       "\n",
       "    .dataframe thead th {\n",
       "        text-align: right;\n",
       "    }\n",
       "</style>\n",
       "<table border=\"1\" class=\"dataframe\">\n",
       "  <thead>\n",
       "    <tr style=\"text-align: right;\">\n",
       "      <th></th>\n",
       "      <th>Unnamed: 0</th>\n",
       "      <th>Age</th>\n",
       "    </tr>\n",
       "  </thead>\n",
       "  <tbody>\n",
       "    <tr>\n",
       "      <th>0</th>\n",
       "      <td>20 - 29</td>\n",
       "      <td>404</td>\n",
       "    </tr>\n",
       "    <tr>\n",
       "      <th>1</th>\n",
       "      <td>30 - 39</td>\n",
       "      <td>298</td>\n",
       "    </tr>\n",
       "    <tr>\n",
       "      <th>2</th>\n",
       "      <td>10 - 19</td>\n",
       "      <td>203</td>\n",
       "    </tr>\n",
       "    <tr>\n",
       "      <th>3</th>\n",
       "      <td>40 - 49</td>\n",
       "      <td>200</td>\n",
       "    </tr>\n",
       "    <tr>\n",
       "      <th>4</th>\n",
       "      <td>50 - 59</td>\n",
       "      <td>106</td>\n",
       "    </tr>\n",
       "    <tr>\n",
       "      <th>5</th>\n",
       "      <td>60 - 69</td>\n",
       "      <td>50</td>\n",
       "    </tr>\n",
       "    <tr>\n",
       "      <th>6</th>\n",
       "      <td>0 - 9</td>\n",
       "      <td>24</td>\n",
       "    </tr>\n",
       "    <tr>\n",
       "      <th>7</th>\n",
       "      <td>70 - 79</td>\n",
       "      <td>23</td>\n",
       "    </tr>\n",
       "    <tr>\n",
       "      <th>8</th>\n",
       "      <td>80 - 89</td>\n",
       "      <td>6</td>\n",
       "    </tr>\n",
       "    <tr>\n",
       "      <th>9</th>\n",
       "      <td>90 - 99</td>\n",
       "      <td>2</td>\n",
       "    </tr>\n",
       "  </tbody>\n",
       "</table>\n",
       "</div>"
      ],
      "text/plain": [
       "  Unnamed: 0  Age\n",
       "0    20 - 29  404\n",
       "1    30 - 39  298\n",
       "2    10 - 19  203\n",
       "3    40 - 49  200\n",
       "4    50 - 59  106\n",
       "5    60 - 69   50\n",
       "6      0 - 9   24\n",
       "7    70 - 79   23\n",
       "8    80 - 89    6\n",
       "9    90 - 99    2"
      ]
     },
     "execution_count": 27,
     "metadata": {},
     "output_type": "execute_result"
    }
   ],
   "source": [
    "new = pd.read_csv(\"output.csv\")\n",
    "new"
   ]
  },
  {
   "cell_type": "code",
   "execution_count": 39,
   "id": "8323f293",
   "metadata": {},
   "outputs": [
    {
     "data": {
      "text/html": [
       "<div>\n",
       "<style scoped>\n",
       "    .dataframe tbody tr th:only-of-type {\n",
       "        vertical-align: middle;\n",
       "    }\n",
       "\n",
       "    .dataframe tbody tr th {\n",
       "        vertical-align: top;\n",
       "    }\n",
       "\n",
       "    .dataframe thead th {\n",
       "        text-align: right;\n",
       "    }\n",
       "</style>\n",
       "<table border=\"1\" class=\"dataframe\">\n",
       "  <thead>\n",
       "    <tr style=\"text-align: right;\">\n",
       "      <th></th>\n",
       "      <th>Unnamed: 0</th>\n",
       "      <th>Age</th>\n",
       "      <th>pct</th>\n",
       "    </tr>\n",
       "  </thead>\n",
       "  <tbody>\n",
       "    <tr>\n",
       "      <th>0</th>\n",
       "      <td>20 - 29</td>\n",
       "      <td>404</td>\n",
       "      <td>30.699088</td>\n",
       "    </tr>\n",
       "    <tr>\n",
       "      <th>1</th>\n",
       "      <td>30 - 39</td>\n",
       "      <td>298</td>\n",
       "      <td>22.644377</td>\n",
       "    </tr>\n",
       "    <tr>\n",
       "      <th>2</th>\n",
       "      <td>10 - 19</td>\n",
       "      <td>203</td>\n",
       "      <td>15.425532</td>\n",
       "    </tr>\n",
       "    <tr>\n",
       "      <th>3</th>\n",
       "      <td>40 - 49</td>\n",
       "      <td>200</td>\n",
       "      <td>15.197568</td>\n",
       "    </tr>\n",
       "    <tr>\n",
       "      <th>4</th>\n",
       "      <td>50 - 59</td>\n",
       "      <td>106</td>\n",
       "      <td>8.054711</td>\n",
       "    </tr>\n",
       "    <tr>\n",
       "      <th>5</th>\n",
       "      <td>60 - 69</td>\n",
       "      <td>50</td>\n",
       "      <td>3.799392</td>\n",
       "    </tr>\n",
       "    <tr>\n",
       "      <th>6</th>\n",
       "      <td>0 - 9</td>\n",
       "      <td>24</td>\n",
       "      <td>1.823708</td>\n",
       "    </tr>\n",
       "    <tr>\n",
       "      <th>7</th>\n",
       "      <td>70 - 79</td>\n",
       "      <td>23</td>\n",
       "      <td>1.747720</td>\n",
       "    </tr>\n",
       "    <tr>\n",
       "      <th>8</th>\n",
       "      <td>80 - 89</td>\n",
       "      <td>6</td>\n",
       "      <td>0.455927</td>\n",
       "    </tr>\n",
       "    <tr>\n",
       "      <th>9</th>\n",
       "      <td>90 - 99</td>\n",
       "      <td>2</td>\n",
       "      <td>0.151976</td>\n",
       "    </tr>\n",
       "  </tbody>\n",
       "</table>\n",
       "</div>"
      ],
      "text/plain": [
       "  Unnamed: 0  Age        pct\n",
       "0    20 - 29  404  30.699088\n",
       "1    30 - 39  298  22.644377\n",
       "2    10 - 19  203  15.425532\n",
       "3    40 - 49  200  15.197568\n",
       "4    50 - 59  106   8.054711\n",
       "5    60 - 69   50   3.799392\n",
       "6      0 - 9   24   1.823708\n",
       "7    70 - 79   23   1.747720\n",
       "8    80 - 89    6   0.455927\n",
       "9    90 - 99    2   0.151976"
      ]
     },
     "execution_count": 39,
     "metadata": {},
     "output_type": "execute_result"
    }
   ],
   "source": [
    "new[\"pct\"] =new.Age/new.Age.sum()*100\n",
    "new"
   ]
  },
  {
   "cell_type": "code",
   "execution_count": 166,
   "id": "43b67a22",
   "metadata": {
    "scrolled": true
   },
   "outputs": [
    {
     "data": {
      "text/plain": [
       "Student                                                                                                         69\n",
       "Student \\n(University)                                                                                           2\n",
       "Student, ABSFU \\n(Monywa)                                                                                        1\n",
       "Student \\n(University of \\nMedicine 2 of \\nYangon), Chin \\nNational Army   \\n(Medical \\ndepartment, \\nmedic)     1\n",
       "Student,  \\n(University, \\nMandalay)                                                                             1\n",
       "Student  \\n(Engineering)                                                                                         1\n",
       "Student \\n(Monywa \\nUniversity, \\nMathematics, \\n3rd Year)                                                       1\n",
       "Former Medical \\nStudent                                                                                         1\n",
       "Student \\n(Zoology, 1st \\nYear)                                                                                  1\n",
       "Student \\n(Zoology, 2nd \\nYear)                                                                                  1\n",
       "Student, ABSFU                                                                                                   1\n",
       "Student \\n(Technological \\nUniversity \\n(Magway), Civil, \\n2nd Year)                                             1\n",
       "Student (Grade \\n5)                                                                                              1\n",
       "Student \\n(University,  \\nLaw, Final)                                                                            1\n",
       "Student \\n(Engineer)                                                                                             1\n",
       "Student (Basic \\nEducation High \\nSchool)                                                                        1\n",
       "Student (Civil, \\n1st Year)                                                                                      1\n",
       "Student (Grade \\n9)                                                                                              1\n",
       "Student (1st \\nYear, Medical)                                                                                    1\n",
       "Student \\n(MiMBER \\nInstitute)                                                                                   1\n",
       "Former \\nchairman of the \\nBasic Education \\nStudents' Union \\n(ABFSU)                                           1\n",
       "Name: Organization, dtype: int64"
      ]
     },
     "execution_count": 166,
     "metadata": {},
     "output_type": "execute_result"
    }
   ],
   "source": [
    "coup[coup.Organization.str.contains(\"student\", case=False)].Organization.value_counts()"
   ]
  },
  {
   "cell_type": "code",
   "execution_count": 167,
   "id": "1b0d0b3e",
   "metadata": {},
   "outputs": [
    {
     "name": "stdout",
     "output_type": "stream",
     "text": [
      "<class 'pandas.core.frame.DataFrame'>\n",
      "Int64Index: 1678 entries, 1 to 1678\n",
      "Data columns (total 13 columns):\n",
      " #   Column               Non-Null Count  Dtype \n",
      "---  ------               --------------  ----- \n",
      " 0   No.                  1678 non-null   object\n",
      " 1   Name                 1678 non-null   object\n",
      " 2   Sex                  1678 non-null   object\n",
      " 3   Age                  1678 non-null   object\n",
      " 4   Father's \n",
      "name       1678 non-null   object\n",
      " 5   Date of \n",
      "Incident    1678 non-null   object\n",
      " 6   Deceased \n",
      "Date       1678 non-null   object\n",
      " 7   Organization         1678 non-null   object\n",
      " 8   Place of \n",
      "Incidents  1678 non-null   object\n",
      " 9   Home \n",
      "Address        1678 non-null   object\n",
      " 10  Township             1678 non-null   object\n",
      " 11  States/Regions       1678 non-null   object\n",
      " 12  Remarks              1678 non-null   object\n",
      "dtypes: object(13)\n",
      "memory usage: 183.5+ KB\n"
     ]
    }
   ],
   "source": [
    "coup.info()"
   ]
  },
  {
   "cell_type": "code",
   "execution_count": 171,
   "id": "3275d53c",
   "metadata": {},
   "outputs": [
    {
     "name": "stdout",
     "output_type": "stream",
     "text": [
      "<class 'pandas.core.frame.DataFrame'>\n",
      "Int64Index: 1678 entries, 1 to 1678\n",
      "Data columns (total 13 columns):\n",
      " #   Column              Non-Null Count  Dtype \n",
      "---  ------              --------------  ----- \n",
      " 0   No.                 1678 non-null   object\n",
      " 1   Name                1678 non-null   object\n",
      " 2   Sex                 1678 non-null   object\n",
      " 3   Age                 1678 non-null   object\n",
      " 4   Father's name       1678 non-null   object\n",
      " 5   Date of Incident    1678 non-null   object\n",
      " 6   Deceased Date       1678 non-null   object\n",
      " 7   Organization        1678 non-null   object\n",
      " 8   Place of Incidents  1678 non-null   object\n",
      " 9   Home Address        1678 non-null   object\n",
      " 10  Township            1678 non-null   object\n",
      " 11  States/Regions      1678 non-null   object\n",
      " 12  Remarks             1678 non-null   object\n",
      "dtypes: object(13)\n",
      "memory usage: 183.5+ KB\n"
     ]
    }
   ],
   "source": [
    "coup.columns = coup.columns.str.replace('\\n','')\n",
    "coup.Remarks = coup.Remarks.str.replace('\\n','')\n",
    "coup.Organization = coup.Organization.str.replace('\\n','')\n",
    "coup.to_csv('coup.csv',index=False)  \n",
    "coup.info()"
   ]
  },
  {
   "cell_type": "code",
   "execution_count": 34,
   "id": "7f38a8e2",
   "metadata": {},
   "outputs": [],
   "source": [
    "from datetime import datetime"
   ]
  },
  {
   "cell_type": "code",
   "execution_count": 172,
   "id": "a4a2c92b",
   "metadata": {
    "scrolled": true
   },
   "outputs": [],
   "source": [
    "coup['date_of_incident'] = pd.to_datetime(coup['Date of Incident'],format='%d-%b-%y',errors='coerce')\n",
    "coup['deceased_date'] = pd.to_datetime(coup['Deceased Date'],format='%d-%b-%y',errors='coerce')"
   ]
  },
  {
   "cell_type": "code",
   "execution_count": 173,
   "id": "ff052c08",
   "metadata": {},
   "outputs": [],
   "source": [
    "coup.to_csv('coup.csv',index=False)  "
   ]
  },
  {
   "cell_type": "code",
   "execution_count": 174,
   "id": "b282c673",
   "metadata": {},
   "outputs": [],
   "source": [
    "coup.Sex =coup.Sex.str.replace(\"\\n\",\"\")"
   ]
  },
  {
   "cell_type": "code",
   "execution_count": 46,
   "id": "86bd933a",
   "metadata": {},
   "outputs": [
    {
     "data": {
      "text/plain": [
       "M       1162\n",
       "F        122\n",
       "          24\n",
       "MF         4\n",
       "FF         3\n",
       "LGBT       1\n",
       "Name: Sex, dtype: int64"
      ]
     },
     "execution_count": 46,
     "metadata": {},
     "output_type": "execute_result"
    }
   ],
   "source": [
    "coup2.Sex.value_counts()"
   ]
  },
  {
   "cell_type": "code",
   "execution_count": 175,
   "id": "b50507e1",
   "metadata": {},
   "outputs": [
    {
     "data": {
      "text/plain": [
       "Sagaing        0.349851\n",
       "Mandalay       0.167493\n",
       "Yangon         0.105055\n",
       "Magway         0.085233\n",
       "Bago           0.063429\n",
       "Kayah          0.044599\n",
       "Tanintharyi    0.041625\n",
       "Shan           0.031715\n",
       "               0.023786\n",
       "Kachin         0.020813\n",
       "Chin           0.020813\n",
       "Ayeyarwady     0.018831\n",
       "Mon            0.011893\n",
       "Kayin          0.010902\n",
       "Naypyitaw      0.003964\n",
       "Name: States/Regions, dtype: float64"
      ]
     },
     "execution_count": 175,
     "metadata": {},
     "output_type": "execute_result"
    }
   ],
   "source": [
    "coup[coup[\"Date of Incident\"] > \"2021-5-1\"][\"States/Regions\"].value_counts(normalize = True)\n"
   ]
  },
  {
   "cell_type": "code",
   "execution_count": 176,
   "id": "5459f376",
   "metadata": {},
   "outputs": [
    {
     "data": {
      "text/plain": [
       "Sagaing        0.304933\n",
       "Yangon         0.224215\n",
       "Mandalay       0.143498\n",
       "Magway         0.088191\n",
       "               0.038864\n",
       "Bago           0.037369\n",
       "Shan           0.035874\n",
       "Tanintharyi    0.028401\n",
       "Chin           0.025411\n",
       "Kachin         0.017937\n",
       "Kayah          0.017937\n",
       "Mon            0.014948\n",
       "Ayeyarwady     0.010463\n",
       "Naypyitaw      0.007474\n",
       "Rakhine        0.001495\n",
       "Karen          0.001495\n",
       "Arrawaddy      0.001495\n",
       "Name: States/Regions, dtype: float64"
      ]
     },
     "execution_count": 176,
     "metadata": {},
     "output_type": "execute_result"
    }
   ],
   "source": [
    "coup[coup[\"Date of Incident\"] < \"2021-5-1\"][\"States/Regions\"].value_counts(normalize = True)\n"
   ]
  },
  {
   "cell_type": "code",
   "execution_count": 177,
   "id": "5b39eba8",
   "metadata": {},
   "outputs": [
    {
     "data": {
      "text/plain": [
       "Sagaing        0.331943\n",
       "Mandalay       0.157926\n",
       "Yangon         0.152563\n",
       "Magway         0.086412\n",
       "Bago           0.053039\n",
       "Tanintharyi    0.036353\n",
       "Kayah          0.033969\n",
       "Shan           0.033373\n",
       "               0.029797\n",
       "Chin           0.022646\n",
       "Kachin         0.019666\n",
       "Ayeyarwady     0.015495\n",
       "Mon            0.013111\n",
       "Kayin          0.006555\n",
       "Naypyitaw      0.005364\n",
       "Rakhine        0.000596\n",
       "Karen          0.000596\n",
       "Arrawaddy      0.000596\n",
       "Name: States/Regions, dtype: float64"
      ]
     },
     "execution_count": 177,
     "metadata": {},
     "output_type": "execute_result"
    }
   ],
   "source": [
    "coup[\"States/Regions\"].value_counts(normalize = True)"
   ]
  },
  {
   "cell_type": "code",
   "execution_count": 178,
   "id": "aebe5f12",
   "metadata": {},
   "outputs": [
    {
     "data": {
      "text/plain": [
       "Sagaing        0.304933\n",
       "Yangon         0.224215\n",
       "Mandalay       0.143498\n",
       "Magway         0.088191\n",
       "               0.038864\n",
       "Bago           0.037369\n",
       "Shan           0.035874\n",
       "Tanintharyi    0.028401\n",
       "Chin           0.025411\n",
       "Kachin         0.017937\n",
       "Kayah          0.017937\n",
       "Mon            0.014948\n",
       "Ayeyarwady     0.010463\n",
       "Naypyitaw      0.007474\n",
       "Rakhine        0.001495\n",
       "Karen          0.001495\n",
       "Arrawaddy      0.001495\n",
       "Name: States/Regions, dtype: float64"
      ]
     },
     "execution_count": 178,
     "metadata": {},
     "output_type": "execute_result"
    }
   ],
   "source": [
    "coup[coup[\"Date of Incident\"] < \"2021-5-1\"][\"States/Regions\"].value_counts(normalize = True)\n"
   ]
  },
  {
   "cell_type": "code",
   "execution_count": 125,
   "id": "5e0f99ea",
   "metadata": {},
   "outputs": [
    {
     "data": {
      "text/plain": [
       "Sagaing        0.358247\n",
       "Mandalay       0.176546\n",
       "Yangon         0.110825\n",
       "Magway         0.083763\n",
       "Tanintharyi    0.050258\n",
       "Bago           0.050258\n",
       "Shan           0.030928\n",
       "               0.029639\n",
       "Kayah          0.029639\n",
       "Ayeyarwady     0.020619\n",
       "Kachin         0.019330\n",
       "Chin           0.012887\n",
       "Mon            0.011598\n",
       "Kayin          0.011598\n",
       "Naypyitaw      0.003866\n",
       "Name: States/Regions, dtype: float64"
      ]
     },
     "execution_count": 125,
     "metadata": {},
     "output_type": "execute_result"
    }
   ],
   "source": [
    "coup2[coup2[\"Date of Incident\"] > \"2022-5-1\"][\"States/Regions\"].value_counts(normalize = True)"
   ]
  },
  {
   "cell_type": "code",
   "execution_count": 179,
   "id": "f754848e",
   "metadata": {},
   "outputs": [
    {
     "name": "stderr",
     "output_type": "stream",
     "text": [
      "C:\\Users\\nao22\\AppData\\Local\\Temp/ipykernel_11920/3378948582.py:1: UserWarning: Boolean Series key will be reindexed to match DataFrame index.\n",
      "  len(coup[coup.Organization.str.contains(\"student\", case=False)][coup[\"Date of Incident\"] < \"2021-3-1\"])\n"
     ]
    },
    {
     "data": {
      "text/plain": [
       "40"
      ]
     },
     "execution_count": 179,
     "metadata": {},
     "output_type": "execute_result"
    }
   ],
   "source": [
    "len(coup[coup.Organization.str.contains(\"student\", case=False)][coup[\"Date of Incident\"] < \"2021-3-1\"])"
   ]
  },
  {
   "cell_type": "code",
   "execution_count": 180,
   "id": "7de0c634",
   "metadata": {},
   "outputs": [
    {
     "name": "stderr",
     "output_type": "stream",
     "text": [
      "C:\\Users\\nao22\\AppData\\Local\\Temp/ipykernel_11920/3466643302.py:1: UserWarning: Boolean Series key will be reindexed to match DataFrame index.\n",
      "  len(coup[coup.Organization.str.contains(\"student\", case=False)][coup[\"Date of Incident\"] >= \"2021-3-1\"])\n"
     ]
    },
    {
     "data": {
      "text/plain": [
       "50"
      ]
     },
     "execution_count": 180,
     "metadata": {},
     "output_type": "execute_result"
    }
   ],
   "source": [
    "len(coup[coup.Organization.str.contains(\"student\", case=False)][coup[\"Date of Incident\"] >= \"2021-3-1\"])"
   ]
  },
  {
   "cell_type": "code",
   "execution_count": 181,
   "id": "943a8e69",
   "metadata": {},
   "outputs": [
    {
     "data": {
      "text/plain": [
       "Kale                        85\n",
       "Kani                        64\n",
       "                            39\n",
       "Shwebo                      37\n",
       "Monywa                      35\n",
       "Khin-u                      30\n",
       "Taze                        30\n",
       "Yinmarbin                   25\n",
       "Khin-U                      22\n",
       "Kawlin                      17\n",
       "Minkin                      17\n",
       "Tabayin                     17\n",
       "Wetlet                      14\n",
       "Tamu                        14\n",
       "Kantbalu                    14\n",
       "Ayadaw                      13\n",
       "Myaung                       9\n",
       "Ye-u                         8\n",
       "Yinmabin                     8\n",
       "Pale                         6\n",
       "Htigyaing                    6\n",
       "Budalin                      6\n",
       "Ye-U                         5\n",
       "Kyunhla                      5\n",
       "Kale (South)                 5\n",
       "Kanbalu                      3\n",
       "Sagaing                      3\n",
       "Pinlebu                      3\n",
       "Chaung-u                     3\n",
       "Tapayin                      3\n",
       "Tigyaing                     2\n",
       "Myinmu                       2\n",
       "Homalin                      1\n",
       "Shwebo, \\nKyauk \\nMyaung     1\n",
       "Pauk                         1\n",
       "Depayin                      1\n",
       "Mingin                       1\n",
       "Inntaw \\n(Indaw)             1\n",
       "Chaung-U                     1\n",
       "Name: Township, dtype: int64"
      ]
     },
     "execution_count": 181,
     "metadata": {},
     "output_type": "execute_result"
    }
   ],
   "source": [
    "coup[coup[\"States/Regions\"] == \"Sagaing\"].Township.value_counts()"
   ]
  },
  {
   "cell_type": "code",
   "execution_count": 182,
   "id": "b62ba4b2",
   "metadata": {},
   "outputs": [
    {
     "data": {
      "text/plain": [
       "<AxesSubplot:xlabel='date_of_incident'>"
      ]
     },
     "execution_count": 182,
     "metadata": {},
     "output_type": "execute_result"
    },
    {
     "data": {
      "image/png": "[encoded data removed]",
      "text/plain": [
       "<Figure size 432x288 with 1 Axes>"
      ]
     },
     "metadata": {
      "needs_background": "light"
     },
     "output_type": "display_data"
    }
   ],
   "source": [
    "coup[coup.Township == \"Kale\"].resample(\"M\", on=\"date_of_incident\").size().plot()"
   ]
  },
  {
   "cell_type": "code",
   "execution_count": 183,
   "id": "6396549f",
   "metadata": {},
   "outputs": [
    {
     "data": {
      "text/plain": [
       "<AxesSubplot:xlabel='date_of_incident'>"
      ]
     },
     "execution_count": 183,
     "metadata": {},
     "output_type": "execute_result"
    },
    {
     "data": {
      "image/png": "[encoded data removed]",
      "text/plain": [
       "<Figure size 432x288 with 1 Axes>"
      ]
     },
     "metadata": {
      "needs_background": "light"
     },
     "output_type": "display_data"
    }
   ],
   "source": [
    "coup[coup[\"States/Regions\"] == \"Sagaing\"].resample(\"W\", on=\"date_of_incident\").size().plot()"
   ]
  },
  {
   "cell_type": "code",
   "execution_count": 121,
   "id": "fea9ad51",
   "metadata": {},
   "outputs": [
    {
     "data": {
      "text/plain": [
       "<AxesSubplot:xlabel='date_of_incident'>"
      ]
     },
     "execution_count": 121,
     "metadata": {},
     "output_type": "execute_result"
    },
    {
     "data": {
      "image/png": "[encoded data removed]",
      "text/plain": [
       "<Figure size 432x288 with 1 Axes>"
      ]
     },
     "metadata": {
      "needs_background": "light"
     },
     "output_type": "display_data"
    }
   ],
   "source": [
    "coup2[coup2[\"States/Regions\"] == \"Yangon\"].resample(\"W\", on=\"date_of_incident\").size().plot()"
   ]
  },
  {
   "cell_type": "code",
   "execution_count": 184,
   "id": "feb35283",
   "metadata": {},
   "outputs": [
    {
     "data": {
      "text/plain": [
       "<AxesSubplot:xlabel='date_of_incident'>"
      ]
     },
     "execution_count": 184,
     "metadata": {},
     "output_type": "execute_result"
    },
    {
     "data": {
      "image/png": "[encoded data removed]",
      "text/plain": [
       "<Figure size 432x288 with 1 Axes>"
      ]
     },
     "metadata": {
      "needs_background": "light"
     },
     "output_type": "display_data"
    }
   ],
   "source": [
    "coup[coup[\"States/Regions\"] == \"Magway\"].resample(\"W\", on=\"date_of_incident\").size().plot()"
   ]
  },
  {
   "cell_type": "code",
   "execution_count": 185,
   "id": "446ac950",
   "metadata": {},
   "outputs": [
    {
     "data": {
      "text/plain": [
       "<AxesSubplot:xlabel='date_of_incident'>"
      ]
     },
     "execution_count": 185,
     "metadata": {},
     "output_type": "execute_result"
    },
    {
     "data": {
      "image/png": "[encoded data removed]",
      "text/plain": [
       "<Figure size 432x288 with 1 Axes>"
      ]
     },
     "metadata": {
      "needs_background": "light"
     },
     "output_type": "display_data"
    }
   ],
   "source": [
    "coup[coup[\"States/Regions\"] == \"Mandalay\"].resample(\"W\", on=\"date_of_incident\").size().plot()"
   ]
  },
  {
   "cell_type": "code",
   "execution_count": 186,
   "id": "ef3086ac",
   "metadata": {},
   "outputs": [
    {
     "data": {
      "text/plain": [
       "array(['Mandalay', 'Naypyitaw', 'Tanintharyi', 'Yangon', 'Mon', 'Bago',\n",
       "       'Magway', '', 'Sagaing', 'Kachin', 'Ayeyarwady', 'Shan', 'Kayah',\n",
       "       'Chin', 'Rakhine', 'Karen', 'Kayin', 'Arrawaddy'], dtype=object)"
      ]
     },
     "execution_count": 186,
     "metadata": {},
     "output_type": "execute_result"
    }
   ],
   "source": [
    "# Myanmar'S state pop\n",
    "coup[\"States/Regions\"].unique()\n"
   ]
  },
  {
   "cell_type": "code",
   "execution_count": 187,
   "id": "f9453e1e",
   "metadata": {},
   "outputs": [
    {
     "data": {
      "text/html": [
       "<div>\n",
       "<style scoped>\n",
       "    .dataframe tbody tr th:only-of-type {\n",
       "        vertical-align: middle;\n",
       "    }\n",
       "\n",
       "    .dataframe tbody tr th {\n",
       "        vertical-align: top;\n",
       "    }\n",
       "\n",
       "    .dataframe thead th {\n",
       "        text-align: right;\n",
       "    }\n",
       "</style>\n",
       "<table border=\"1\" class=\"dataframe\">\n",
       "  <thead>\n",
       "    <tr style=\"text-align: right;\">\n",
       "      <th></th>\n",
       "      <th>Age</th>\n",
       "      <th>Date of Incident</th>\n",
       "      <th>Deceased Date</th>\n",
       "      <th>Father's name</th>\n",
       "      <th>Home Address</th>\n",
       "      <th>Name</th>\n",
       "      <th>No.</th>\n",
       "      <th>Organization</th>\n",
       "      <th>Place of Incidents</th>\n",
       "      <th>Remarks</th>\n",
       "      <th>Sex</th>\n",
       "      <th>Township</th>\n",
       "      <th>date_of_incident</th>\n",
       "      <th>deceased_date</th>\n",
       "    </tr>\n",
       "    <tr>\n",
       "      <th>States/Regions</th>\n",
       "      <th></th>\n",
       "      <th></th>\n",
       "      <th></th>\n",
       "      <th></th>\n",
       "      <th></th>\n",
       "      <th></th>\n",
       "      <th></th>\n",
       "      <th></th>\n",
       "      <th></th>\n",
       "      <th></th>\n",
       "      <th></th>\n",
       "      <th></th>\n",
       "      <th></th>\n",
       "      <th></th>\n",
       "    </tr>\n",
       "  </thead>\n",
       "  <tbody>\n",
       "    <tr>\n",
       "      <th></th>\n",
       "      <td>50</td>\n",
       "      <td>50</td>\n",
       "      <td>50</td>\n",
       "      <td>50</td>\n",
       "      <td>50</td>\n",
       "      <td>50</td>\n",
       "      <td>50</td>\n",
       "      <td>50</td>\n",
       "      <td>50</td>\n",
       "      <td>50</td>\n",
       "      <td>50</td>\n",
       "      <td>50</td>\n",
       "      <td>50</td>\n",
       "      <td>50</td>\n",
       "    </tr>\n",
       "    <tr>\n",
       "      <th>Arrawaddy</th>\n",
       "      <td>1</td>\n",
       "      <td>1</td>\n",
       "      <td>1</td>\n",
       "      <td>1</td>\n",
       "      <td>1</td>\n",
       "      <td>1</td>\n",
       "      <td>1</td>\n",
       "      <td>1</td>\n",
       "      <td>1</td>\n",
       "      <td>1</td>\n",
       "      <td>1</td>\n",
       "      <td>1</td>\n",
       "      <td>1</td>\n",
       "      <td>1</td>\n",
       "    </tr>\n",
       "    <tr>\n",
       "      <th>Ayeyarwady</th>\n",
       "      <td>26</td>\n",
       "      <td>26</td>\n",
       "      <td>26</td>\n",
       "      <td>26</td>\n",
       "      <td>26</td>\n",
       "      <td>26</td>\n",
       "      <td>26</td>\n",
       "      <td>26</td>\n",
       "      <td>26</td>\n",
       "      <td>26</td>\n",
       "      <td>26</td>\n",
       "      <td>26</td>\n",
       "      <td>26</td>\n",
       "      <td>26</td>\n",
       "    </tr>\n",
       "    <tr>\n",
       "      <th>Bago</th>\n",
       "      <td>89</td>\n",
       "      <td>89</td>\n",
       "      <td>89</td>\n",
       "      <td>89</td>\n",
       "      <td>89</td>\n",
       "      <td>89</td>\n",
       "      <td>89</td>\n",
       "      <td>89</td>\n",
       "      <td>89</td>\n",
       "      <td>89</td>\n",
       "      <td>89</td>\n",
       "      <td>89</td>\n",
       "      <td>89</td>\n",
       "      <td>89</td>\n",
       "    </tr>\n",
       "    <tr>\n",
       "      <th>Chin</th>\n",
       "      <td>38</td>\n",
       "      <td>38</td>\n",
       "      <td>38</td>\n",
       "      <td>38</td>\n",
       "      <td>38</td>\n",
       "      <td>38</td>\n",
       "      <td>38</td>\n",
       "      <td>38</td>\n",
       "      <td>38</td>\n",
       "      <td>38</td>\n",
       "      <td>38</td>\n",
       "      <td>38</td>\n",
       "      <td>38</td>\n",
       "      <td>38</td>\n",
       "    </tr>\n",
       "    <tr>\n",
       "      <th>Kachin</th>\n",
       "      <td>33</td>\n",
       "      <td>33</td>\n",
       "      <td>33</td>\n",
       "      <td>33</td>\n",
       "      <td>33</td>\n",
       "      <td>33</td>\n",
       "      <td>33</td>\n",
       "      <td>33</td>\n",
       "      <td>33</td>\n",
       "      <td>33</td>\n",
       "      <td>33</td>\n",
       "      <td>33</td>\n",
       "      <td>33</td>\n",
       "      <td>33</td>\n",
       "    </tr>\n",
       "    <tr>\n",
       "      <th>Karen</th>\n",
       "      <td>1</td>\n",
       "      <td>1</td>\n",
       "      <td>1</td>\n",
       "      <td>1</td>\n",
       "      <td>1</td>\n",
       "      <td>1</td>\n",
       "      <td>1</td>\n",
       "      <td>1</td>\n",
       "      <td>1</td>\n",
       "      <td>1</td>\n",
       "      <td>1</td>\n",
       "      <td>1</td>\n",
       "      <td>1</td>\n",
       "      <td>1</td>\n",
       "    </tr>\n",
       "    <tr>\n",
       "      <th>Kayah</th>\n",
       "      <td>57</td>\n",
       "      <td>57</td>\n",
       "      <td>57</td>\n",
       "      <td>57</td>\n",
       "      <td>57</td>\n",
       "      <td>57</td>\n",
       "      <td>57</td>\n",
       "      <td>57</td>\n",
       "      <td>57</td>\n",
       "      <td>57</td>\n",
       "      <td>57</td>\n",
       "      <td>57</td>\n",
       "      <td>57</td>\n",
       "      <td>57</td>\n",
       "    </tr>\n",
       "    <tr>\n",
       "      <th>Kayin</th>\n",
       "      <td>11</td>\n",
       "      <td>11</td>\n",
       "      <td>11</td>\n",
       "      <td>11</td>\n",
       "      <td>11</td>\n",
       "      <td>11</td>\n",
       "      <td>11</td>\n",
       "      <td>11</td>\n",
       "      <td>11</td>\n",
       "      <td>11</td>\n",
       "      <td>11</td>\n",
       "      <td>11</td>\n",
       "      <td>11</td>\n",
       "      <td>11</td>\n",
       "    </tr>\n",
       "    <tr>\n",
       "      <th>Magway</th>\n",
       "      <td>145</td>\n",
       "      <td>145</td>\n",
       "      <td>145</td>\n",
       "      <td>145</td>\n",
       "      <td>145</td>\n",
       "      <td>145</td>\n",
       "      <td>145</td>\n",
       "      <td>145</td>\n",
       "      <td>145</td>\n",
       "      <td>145</td>\n",
       "      <td>145</td>\n",
       "      <td>145</td>\n",
       "      <td>145</td>\n",
       "      <td>145</td>\n",
       "    </tr>\n",
       "    <tr>\n",
       "      <th>Mandalay</th>\n",
       "      <td>265</td>\n",
       "      <td>265</td>\n",
       "      <td>265</td>\n",
       "      <td>265</td>\n",
       "      <td>265</td>\n",
       "      <td>265</td>\n",
       "      <td>265</td>\n",
       "      <td>265</td>\n",
       "      <td>265</td>\n",
       "      <td>265</td>\n",
       "      <td>265</td>\n",
       "      <td>265</td>\n",
       "      <td>265</td>\n",
       "      <td>265</td>\n",
       "    </tr>\n",
       "    <tr>\n",
       "      <th>Mon</th>\n",
       "      <td>22</td>\n",
       "      <td>22</td>\n",
       "      <td>22</td>\n",
       "      <td>22</td>\n",
       "      <td>22</td>\n",
       "      <td>22</td>\n",
       "      <td>22</td>\n",
       "      <td>22</td>\n",
       "      <td>22</td>\n",
       "      <td>22</td>\n",
       "      <td>22</td>\n",
       "      <td>22</td>\n",
       "      <td>22</td>\n",
       "      <td>22</td>\n",
       "    </tr>\n",
       "    <tr>\n",
       "      <th>Naypyitaw</th>\n",
       "      <td>9</td>\n",
       "      <td>9</td>\n",
       "      <td>9</td>\n",
       "      <td>9</td>\n",
       "      <td>9</td>\n",
       "      <td>9</td>\n",
       "      <td>9</td>\n",
       "      <td>9</td>\n",
       "      <td>9</td>\n",
       "      <td>9</td>\n",
       "      <td>9</td>\n",
       "      <td>9</td>\n",
       "      <td>9</td>\n",
       "      <td>9</td>\n",
       "    </tr>\n",
       "    <tr>\n",
       "      <th>Rakhine</th>\n",
       "      <td>1</td>\n",
       "      <td>1</td>\n",
       "      <td>1</td>\n",
       "      <td>1</td>\n",
       "      <td>1</td>\n",
       "      <td>1</td>\n",
       "      <td>1</td>\n",
       "      <td>1</td>\n",
       "      <td>1</td>\n",
       "      <td>1</td>\n",
       "      <td>1</td>\n",
       "      <td>1</td>\n",
       "      <td>1</td>\n",
       "      <td>1</td>\n",
       "    </tr>\n",
       "    <tr>\n",
       "      <th>Sagaing</th>\n",
       "      <td>557</td>\n",
       "      <td>557</td>\n",
       "      <td>557</td>\n",
       "      <td>557</td>\n",
       "      <td>557</td>\n",
       "      <td>557</td>\n",
       "      <td>557</td>\n",
       "      <td>557</td>\n",
       "      <td>557</td>\n",
       "      <td>557</td>\n",
       "      <td>557</td>\n",
       "      <td>557</td>\n",
       "      <td>557</td>\n",
       "      <td>557</td>\n",
       "    </tr>\n",
       "    <tr>\n",
       "      <th>Shan</th>\n",
       "      <td>56</td>\n",
       "      <td>56</td>\n",
       "      <td>56</td>\n",
       "      <td>56</td>\n",
       "      <td>56</td>\n",
       "      <td>56</td>\n",
       "      <td>56</td>\n",
       "      <td>56</td>\n",
       "      <td>56</td>\n",
       "      <td>56</td>\n",
       "      <td>56</td>\n",
       "      <td>56</td>\n",
       "      <td>56</td>\n",
       "      <td>56</td>\n",
       "    </tr>\n",
       "    <tr>\n",
       "      <th>Tanintharyi</th>\n",
       "      <td>61</td>\n",
       "      <td>61</td>\n",
       "      <td>61</td>\n",
       "      <td>61</td>\n",
       "      <td>61</td>\n",
       "      <td>61</td>\n",
       "      <td>61</td>\n",
       "      <td>61</td>\n",
       "      <td>61</td>\n",
       "      <td>61</td>\n",
       "      <td>61</td>\n",
       "      <td>61</td>\n",
       "      <td>61</td>\n",
       "      <td>61</td>\n",
       "    </tr>\n",
       "    <tr>\n",
       "      <th>Yangon</th>\n",
       "      <td>256</td>\n",
       "      <td>256</td>\n",
       "      <td>256</td>\n",
       "      <td>256</td>\n",
       "      <td>256</td>\n",
       "      <td>256</td>\n",
       "      <td>256</td>\n",
       "      <td>256</td>\n",
       "      <td>256</td>\n",
       "      <td>256</td>\n",
       "      <td>256</td>\n",
       "      <td>256</td>\n",
       "      <td>256</td>\n",
       "      <td>256</td>\n",
       "    </tr>\n",
       "  </tbody>\n",
       "</table>\n",
       "</div>"
      ],
      "text/plain": [
       "                Age  Date of Incident  Deceased Date  Father's name  \\\n",
       "States/Regions                                                        \n",
       "                 50                50             50             50   \n",
       "Arrawaddy         1                 1              1              1   \n",
       "Ayeyarwady       26                26             26             26   \n",
       "Bago             89                89             89             89   \n",
       "Chin             38                38             38             38   \n",
       "Kachin           33                33             33             33   \n",
       "Karen             1                 1              1              1   \n",
       "Kayah            57                57             57             57   \n",
       "Kayin            11                11             11             11   \n",
       "Magway          145               145            145            145   \n",
       "Mandalay        265               265            265            265   \n",
       "Mon              22                22             22             22   \n",
       "Naypyitaw         9                 9              9              9   \n",
       "Rakhine           1                 1              1              1   \n",
       "Sagaing         557               557            557            557   \n",
       "Shan             56                56             56             56   \n",
       "Tanintharyi      61                61             61             61   \n",
       "Yangon          256               256            256            256   \n",
       "\n",
       "                Home Address  Name  No.  Organization  Place of Incidents  \\\n",
       "States/Regions                                                              \n",
       "                          50    50   50            50                  50   \n",
       "Arrawaddy                  1     1    1             1                   1   \n",
       "Ayeyarwady                26    26   26            26                  26   \n",
       "Bago                      89    89   89            89                  89   \n",
       "Chin                      38    38   38            38                  38   \n",
       "Kachin                    33    33   33            33                  33   \n",
       "Karen                      1     1    1             1                   1   \n",
       "Kayah                     57    57   57            57                  57   \n",
       "Kayin                     11    11   11            11                  11   \n",
       "Magway                   145   145  145           145                 145   \n",
       "Mandalay                 265   265  265           265                 265   \n",
       "Mon                       22    22   22            22                  22   \n",
       "Naypyitaw                  9     9    9             9                   9   \n",
       "Rakhine                    1     1    1             1                   1   \n",
       "Sagaing                  557   557  557           557                 557   \n",
       "Shan                      56    56   56            56                  56   \n",
       "Tanintharyi               61    61   61            61                  61   \n",
       "Yangon                   256   256  256           256                 256   \n",
       "\n",
       "                Remarks  Sex  Township  date_of_incident  deceased_date  \n",
       "States/Regions                                                           \n",
       "                     50   50        50                50             50  \n",
       "Arrawaddy             1    1         1                 1              1  \n",
       "Ayeyarwady           26   26        26                26             26  \n",
       "Bago                 89   89        89                89             89  \n",
       "Chin                 38   38        38                38             38  \n",
       "Kachin               33   33        33                33             33  \n",
       "Karen                 1    1         1                 1              1  \n",
       "Kayah                57   57        57                57             57  \n",
       "Kayin                11   11        11                11             11  \n",
       "Magway              145  145       145               145            145  \n",
       "Mandalay            265  265       265               265            265  \n",
       "Mon                  22   22        22                22             22  \n",
       "Naypyitaw             9    9         9                 9              9  \n",
       "Rakhine               1    1         1                 1              1  \n",
       "Sagaing             557  557       557               557            557  \n",
       "Shan                 56   56        56                56             56  \n",
       "Tanintharyi          61   61        61                61             61  \n",
       "Yangon              256  256       256               256            256  "
      ]
     },
     "execution_count": 187,
     "metadata": {},
     "output_type": "execute_result"
    }
   ],
   "source": [
    "# pd.pivot_table(df, index=’日付’, columns=’商品名’,values=’販売数量’,aggfunc=’sum’)\n",
    "\n",
    "pd.pivot_table(coup, index='States/Regions',aggfunc= len)"
   ]
  },
  {
   "cell_type": "code",
   "execution_count": 188,
   "id": "e79774d3",
   "metadata": {},
   "outputs": [],
   "source": [
    "state = pd.DataFrame(coup[\"States/Regions\"].value_counts())"
   ]
  },
  {
   "cell_type": "code",
   "execution_count": 189,
   "id": "50bc6f0d",
   "metadata": {},
   "outputs": [
    {
     "data": {
      "text/html": [
       "<div>\n",
       "<style scoped>\n",
       "    .dataframe tbody tr th:only-of-type {\n",
       "        vertical-align: middle;\n",
       "    }\n",
       "\n",
       "    .dataframe tbody tr th {\n",
       "        vertical-align: top;\n",
       "    }\n",
       "\n",
       "    .dataframe thead th {\n",
       "        text-align: right;\n",
       "    }\n",
       "</style>\n",
       "<table border=\"1\" class=\"dataframe\">\n",
       "  <thead>\n",
       "    <tr style=\"text-align: right;\">\n",
       "      <th></th>\n",
       "      <th>death</th>\n",
       "    </tr>\n",
       "  </thead>\n",
       "  <tbody>\n",
       "    <tr>\n",
       "      <th>Sagaing</th>\n",
       "      <td>557</td>\n",
       "    </tr>\n",
       "    <tr>\n",
       "      <th>Mandalay</th>\n",
       "      <td>265</td>\n",
       "    </tr>\n",
       "    <tr>\n",
       "      <th>Yangon</th>\n",
       "      <td>256</td>\n",
       "    </tr>\n",
       "    <tr>\n",
       "      <th>Magway</th>\n",
       "      <td>145</td>\n",
       "    </tr>\n",
       "    <tr>\n",
       "      <th>Bago</th>\n",
       "      <td>89</td>\n",
       "    </tr>\n",
       "    <tr>\n",
       "      <th>Tanintharyi</th>\n",
       "      <td>61</td>\n",
       "    </tr>\n",
       "    <tr>\n",
       "      <th>Kayah</th>\n",
       "      <td>57</td>\n",
       "    </tr>\n",
       "    <tr>\n",
       "      <th>Shan</th>\n",
       "      <td>56</td>\n",
       "    </tr>\n",
       "    <tr>\n",
       "      <th></th>\n",
       "      <td>50</td>\n",
       "    </tr>\n",
       "    <tr>\n",
       "      <th>Chin</th>\n",
       "      <td>38</td>\n",
       "    </tr>\n",
       "    <tr>\n",
       "      <th>Kachin</th>\n",
       "      <td>33</td>\n",
       "    </tr>\n",
       "    <tr>\n",
       "      <th>Ayeyarwady</th>\n",
       "      <td>26</td>\n",
       "    </tr>\n",
       "    <tr>\n",
       "      <th>Mon</th>\n",
       "      <td>22</td>\n",
       "    </tr>\n",
       "    <tr>\n",
       "      <th>Kayin</th>\n",
       "      <td>11</td>\n",
       "    </tr>\n",
       "    <tr>\n",
       "      <th>Naypyitaw</th>\n",
       "      <td>9</td>\n",
       "    </tr>\n",
       "    <tr>\n",
       "      <th>Rakhine</th>\n",
       "      <td>1</td>\n",
       "    </tr>\n",
       "    <tr>\n",
       "      <th>Karen</th>\n",
       "      <td>1</td>\n",
       "    </tr>\n",
       "    <tr>\n",
       "      <th>Arrawaddy</th>\n",
       "      <td>1</td>\n",
       "    </tr>\n",
       "  </tbody>\n",
       "</table>\n",
       "</div>"
      ],
      "text/plain": [
       "             death\n",
       "Sagaing        557\n",
       "Mandalay       265\n",
       "Yangon         256\n",
       "Magway         145\n",
       "Bago            89\n",
       "Tanintharyi     61\n",
       "Kayah           57\n",
       "Shan            56\n",
       "                50\n",
       "Chin            38\n",
       "Kachin          33\n",
       "Ayeyarwady      26\n",
       "Mon             22\n",
       "Kayin           11\n",
       "Naypyitaw        9\n",
       "Rakhine          1\n",
       "Karen            1\n",
       "Arrawaddy        1"
      ]
     },
     "execution_count": 189,
     "metadata": {},
     "output_type": "execute_result"
    }
   ],
   "source": [
    "state.set_axis(['death'], axis='columns')"
   ]
  },
  {
   "cell_type": "code",
   "execution_count": 197,
   "id": "3b5b28ee",
   "metadata": {},
   "outputs": [
    {
     "data": {
      "text/html": [
       "<div>\n",
       "<style scoped>\n",
       "    .dataframe tbody tr th:only-of-type {\n",
       "        vertical-align: middle;\n",
       "    }\n",
       "\n",
       "    .dataframe tbody tr th {\n",
       "        vertical-align: top;\n",
       "    }\n",
       "\n",
       "    .dataframe thead th {\n",
       "        text-align: right;\n",
       "    }\n",
       "</style>\n",
       "<table border=\"1\" class=\"dataframe\">\n",
       "  <thead>\n",
       "    <tr style=\"text-align: right;\">\n",
       "      <th></th>\n",
       "      <th>No.</th>\n",
       "      <th>Name</th>\n",
       "      <th>Sex</th>\n",
       "      <th>Age</th>\n",
       "      <th>Father's name</th>\n",
       "      <th>Date of Incident</th>\n",
       "      <th>Deceased Date</th>\n",
       "      <th>Organization</th>\n",
       "      <th>Place of Incidents</th>\n",
       "      <th>Home Address</th>\n",
       "      <th>Township</th>\n",
       "      <th>States/Regions</th>\n",
       "      <th>Remarks</th>\n",
       "      <th>date_of_incident</th>\n",
       "      <th>deceased_date</th>\n",
       "    </tr>\n",
       "  </thead>\n",
       "  <tbody>\n",
       "  </tbody>\n",
       "</table>\n",
       "</div>"
      ],
      "text/plain": [
       "Empty DataFrame\n",
       "Columns: [No., Name, Sex, Age, Father's name, Date of Incident, Deceased Date, Organization, Place of Incidents, Home Address, Township, States/Regions, Remarks, date_of_incident, deceased_date]\n",
       "Index: []"
      ]
     },
     "execution_count": 197,
     "metadata": {},
     "output_type": "execute_result"
    }
   ],
   "source": [
    "coup[coup[\"States/Regions\"].str.contains(\"New\")]"
   ]
  },
  {
   "cell_type": "code",
   "execution_count": 191,
   "id": "de1cf189",
   "metadata": {},
   "outputs": [
    {
     "data": {
      "text/plain": [
       "Sagaing        557\n",
       "Mandalay       265\n",
       "Yangon         256\n",
       "Magway         145\n",
       "Bago            89\n",
       "Tanintharyi     61\n",
       "Kayah           57\n",
       "Shan            56\n",
       "                50\n",
       "Chin            38\n",
       "Kachin          33\n",
       "Ayeyarwady      26\n",
       "Mon             22\n",
       "Kayin           11\n",
       "Naypyitaw        9\n",
       "Rakhine          1\n",
       "Karen            1\n",
       "Arrawaddy        1\n",
       "Name: States/Regions, dtype: int64"
      ]
     },
     "execution_count": 191,
     "metadata": {},
     "output_type": "execute_result"
    }
   ],
   "source": [
    "coup[\"States/Regions\"].value_counts()"
   ]
  },
  {
   "cell_type": "code",
   "execution_count": 198,
   "id": "c5b81ec3",
   "metadata": {},
   "outputs": [
    {
     "data": {
      "text/plain": [
       "array(['Mandalay', 'Naypyitaw', 'Tanintharyi', 'Yangon', 'Mon', 'Bago',\n",
       "       'Magway', '', 'Sagaing', 'Kachin', 'Ayeyarwady', 'Shan', 'Kayah',\n",
       "       'Chin', 'Rakhine', 'Karen', 'Kayin', 'Arrawaddy'], dtype=object)"
      ]
     },
     "execution_count": 198,
     "metadata": {},
     "output_type": "execute_result"
    }
   ],
   "source": [
    "coup[\"States/Regions\"].unique()"
   ]
  },
  {
   "cell_type": "code",
   "execution_count": 199,
   "id": "0523e833",
   "metadata": {},
   "outputs": [
    {
     "data": {
      "text/html": [
       "<div>\n",
       "<style scoped>\n",
       "    .dataframe tbody tr th:only-of-type {\n",
       "        vertical-align: middle;\n",
       "    }\n",
       "\n",
       "    .dataframe tbody tr th {\n",
       "        vertical-align: top;\n",
       "    }\n",
       "\n",
       "    .dataframe thead th {\n",
       "        text-align: right;\n",
       "    }\n",
       "</style>\n",
       "<table border=\"1\" class=\"dataframe\">\n",
       "  <thead>\n",
       "    <tr style=\"text-align: right;\">\n",
       "      <th></th>\n",
       "      <th>No.</th>\n",
       "      <th>Name</th>\n",
       "      <th>Sex</th>\n",
       "      <th>Age</th>\n",
       "      <th>Father's name</th>\n",
       "      <th>Date of Incident</th>\n",
       "      <th>Deceased Date</th>\n",
       "      <th>Organization</th>\n",
       "      <th>Place of Incidents</th>\n",
       "      <th>Home Address</th>\n",
       "      <th>Township</th>\n",
       "      <th>States/Regions</th>\n",
       "      <th>Remarks</th>\n",
       "      <th>date_of_incident</th>\n",
       "      <th>deceased_date</th>\n",
       "    </tr>\n",
       "  </thead>\n",
       "  <tbody>\n",
       "  </tbody>\n",
       "</table>\n",
       "</div>"
      ],
      "text/plain": [
       "Empty DataFrame\n",
       "Columns: [No., Name, Sex, Age, Father's name, Date of Incident, Deceased Date, Organization, Place of Incidents, Home Address, Township, States/Regions, Remarks, date_of_incident, deceased_date]\n",
       "Index: []"
      ]
     },
     "execution_count": 199,
     "metadata": {},
     "output_type": "execute_result"
    }
   ],
   "source": [
    "coup[~coup['States/Regions'].isin(list(coup['States/Regions'].unique()))]"
   ]
  },
  {
   "cell_type": "code",
   "execution_count": 200,
   "id": "25421c0f",
   "metadata": {},
   "outputs": [],
   "source": [
    "coup.to_csv('coup.csv',index=False)  "
   ]
  },
  {
   "cell_type": "code",
   "execution_count": 209,
   "id": "51d6f6bd",
   "metadata": {},
   "outputs": [
    {
     "data": {
      "text/html": [
       "<div>\n",
       "<style scoped>\n",
       "    .dataframe tbody tr th:only-of-type {\n",
       "        vertical-align: middle;\n",
       "    }\n",
       "\n",
       "    .dataframe tbody tr th {\n",
       "        vertical-align: top;\n",
       "    }\n",
       "\n",
       "    .dataframe thead th {\n",
       "        text-align: right;\n",
       "    }\n",
       "</style>\n",
       "<table border=\"1\" class=\"dataframe\">\n",
       "  <thead>\n",
       "    <tr style=\"text-align: right;\">\n",
       "      <th></th>\n",
       "      <th>No.</th>\n",
       "      <th>Name</th>\n",
       "      <th>Sex</th>\n",
       "      <th>Age</th>\n",
       "      <th>Father's name</th>\n",
       "      <th>Date of Incident</th>\n",
       "      <th>Deceased Date</th>\n",
       "      <th>Organization</th>\n",
       "      <th>Place of Incidents</th>\n",
       "      <th>Home Address</th>\n",
       "      <th>Township</th>\n",
       "      <th>States/Regions</th>\n",
       "      <th>Remarks</th>\n",
       "      <th>date_of_incident</th>\n",
       "      <th>deceased_date</th>\n",
       "    </tr>\n",
       "  </thead>\n",
       "  <tbody>\n",
       "  </tbody>\n",
       "</table>\n",
       "</div>"
      ],
      "text/plain": [
       "Empty DataFrame\n",
       "Columns: [No., Name, Sex, Age, Father's name, Date of Incident, Deceased Date, Organization, Place of Incidents, Home Address, Township, States/Regions, Remarks, date_of_incident, deceased_date]\n",
       "Index: []"
      ]
     },
     "execution_count": 209,
     "metadata": {},
     "output_type": "execute_result"
    }
   ],
   "source": [
    "coup[coup[\"States/Regions\"].str.contains(\"New\")]"
   ]
  },
  {
   "cell_type": "code",
   "execution_count": 210,
   "id": "bfc49c3d",
   "metadata": {},
   "outputs": [
    {
     "ename": "AttributeError",
     "evalue": "module 'pandas' has no attribute 'to_csv'",
     "output_type": "error",
     "traceback": [
      "\u001b[1;31m---------------------------------------------------------------------------\u001b[0m",
      "\u001b[1;31mAttributeError\u001b[0m                            Traceback (most recent call last)",
      "\u001b[1;32m~\\AppData\\Local\\Temp/ipykernel_11920/353092694.py\u001b[0m in \u001b[0;36m<module>\u001b[1;34m\u001b[0m\n\u001b[1;32m----> 1\u001b[1;33m \u001b[0mdeath\u001b[0m \u001b[1;33m=\u001b[0m\u001b[0mpd\u001b[0m\u001b[1;33m.\u001b[0m\u001b[0mto_csv\u001b[0m\u001b[1;33m(\u001b[0m\u001b[1;34m\"coup.csv\"\u001b[0m\u001b[1;33m)\u001b[0m\u001b[1;33m\u001b[0m\u001b[1;33m\u001b[0m\u001b[0m\n\u001b[0m",
      "\u001b[1;32m~\\AppData\\Local\\Programs\\Python\\Python310\\lib\\site-packages\\pandas\\__init__.py\u001b[0m in \u001b[0;36m__getattr__\u001b[1;34m(name)\u001b[0m\n\u001b[0;32m    242\u001b[0m         \u001b[1;32mreturn\u001b[0m \u001b[0m_SparseArray\u001b[0m\u001b[1;33m\u001b[0m\u001b[1;33m\u001b[0m\u001b[0m\n\u001b[0;32m    243\u001b[0m \u001b[1;33m\u001b[0m\u001b[0m\n\u001b[1;32m--> 244\u001b[1;33m     \u001b[1;32mraise\u001b[0m \u001b[0mAttributeError\u001b[0m\u001b[1;33m(\u001b[0m\u001b[1;34mf\"module 'pandas' has no attribute '{name}'\"\u001b[0m\u001b[1;33m)\u001b[0m\u001b[1;33m\u001b[0m\u001b[1;33m\u001b[0m\u001b[0m\n\u001b[0m\u001b[0;32m    245\u001b[0m \u001b[1;33m\u001b[0m\u001b[0m\n\u001b[0;32m    246\u001b[0m \u001b[1;33m\u001b[0m\u001b[0m\n",
      "\u001b[1;31mAttributeError\u001b[0m: module 'pandas' has no attribute 'to_csv'"
     ]
    }
   ],
   "source": [
    "death =pd.to_csv(\"coup.csv\")"
   ]
  },
  {
   "cell_type": "code",
   "execution_count": null,
   "id": "91ea594b",
   "metadata": {},
   "outputs": [],
   "source": [
    "death"
   ]
  }
 ],
 "metadata": {
  "kernelspec": {
   "display_name": "Python 3 (ipykernel)",
   "language": "python",
   "name": "python3"
  },
  "language_info": {
   "codemirror_mode": {
    "name": "ipython",
    "version": 3
   },
   "file_extension": ".py",
   "mimetype": "text/x-python",
   "name": "python",
   "nbconvert_exporter": "python",
   "pygments_lexer": "ipython3",
   "version": "3.10.0"
  }
 },
 "nbformat": 4,
 "nbformat_minor": 5
}
